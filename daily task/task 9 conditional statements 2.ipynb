{
 "cells": [
  {
   "cell_type": "markdown",
   "id": "a110ccfd-5110-4f2a-b7ae-80a2c188e397",
   "metadata": {},
   "source": [
    "**1**  **Write a program to accept a number from a user and  calculate the sum of all numbers from 1 to a given number.**\r\n"
   ]
  },
  {
   "cell_type": "code",
   "execution_count": 15,
   "id": "b15c8b38-7236-4961-a4e1-e687ae1ee174",
   "metadata": {},
   "outputs": [
    {
     "name": "stdin",
     "output_type": "stream",
     "text": [
      "enter the number 6\n"
     ]
    },
    {
     "name": "stdout",
     "output_type": "stream",
     "text": [
      "21\n"
     ]
    }
   ],
   "source": [
    "number=int(input(\"enter the number\"))\n",
    "starting=1\n",
    "sum=0\n",
    "while starting<number+1:\n",
    "      sum=starting+sum\n",
    "      starting=starting+1\n",
    "print(sum) "
   ]
  },
  {
   "cell_type": "markdown",
   "id": "9f5e6b15-73c1-442b-b8cd-36fddd63a17f",
   "metadata": {},
   "source": [
    "**2** **write a program to convert only odd indexed characters to lowercase.**\r\n"
   ]
  },
  {
   "cell_type": "code",
   "execution_count": 13,
   "id": "de9024c9-0777-48f3-afeb-4f758f59f673",
   "metadata": {},
   "outputs": [
    {
     "name": "stdin",
     "output_type": "stream",
     "text": [
      "enter the char  YETTINA\n"
     ]
    },
    {
     "name": "stdout",
     "output_type": "stream",
     "text": [
      "YeTtInA\n"
     ]
    }
   ],
   "source": [
    "res=[]\n",
    "char=input(\"enter the char \")\n",
    "for i in range(0,len(char)):\n",
    "  if (i%2==0):\n",
    "      res.append(char[i])\n",
    "  else:\n",
    "       res.append(char[i].lower())\n",
    "res\n",
    "print(\"\".join(res))\n",
    "  "
   ]
  },
  {
   "cell_type": "markdown",
   "id": "ed8ce010-529f-457f-879b-95f6775ab858",
   "metadata": {},
   "source": [
    "**3** **Write a python program which will print the sum of the two numbers if the two numbers are even or it will print the difference of two numbers.**\r\n"
   ]
  },
  {
   "cell_type": "code",
   "execution_count": 45,
   "id": "31484177-354c-4f6b-9d9c-526a4da2e0b9",
   "metadata": {},
   "outputs": [
    {
     "name": "stdin",
     "output_type": "stream",
     "text": [
      "enter the first number 4\n",
      "enter the second number 4\n"
     ]
    },
    {
     "name": "stdout",
     "output_type": "stream",
     "text": [
      "8\n"
     ]
    }
   ],
   "source": [
    "a=int(input(\"enter the first number\"))\n",
    "b=int(input(\"enter the second number\"))\n",
    "if a%2==0 and b%2==0 :\n",
    "    sum=a+b\n",
    "    print(sum)\n",
    "else:\n",
    "    difference=a-b\n",
    "    print(difference)"
   ]
  },
  {
   "cell_type": "markdown",
   "id": "a0ea82f2-8669-483e-9b65-68eb91307c3e",
   "metadata": {},
   "source": [
    "**4**  **Write a program to print a multiplication table of a given  number.**\r\n"
   ]
  },
  {
   "cell_type": "code",
   "execution_count": 85,
   "id": "ece0a2d4-e187-4913-88bc-e23f46c779c8",
   "metadata": {},
   "outputs": [
    {
     "name": "stdin",
     "output_type": "stream",
     "text": [
      "enter the number 4\n"
     ]
    },
    {
     "name": "stdout",
     "output_type": "stream",
     "text": [
      "4 * 1 = 4\n",
      "4 * 2 = 8\n",
      "4 * 3 = 12\n",
      "4 * 4 = 16\n",
      "4 * 5 = 20\n",
      "4 * 6 = 24\n",
      "4 * 7 = 28\n",
      "4 * 8 = 32\n",
      "4 * 9 = 36\n",
      "4 * 10 = 40\n"
     ]
    }
   ],
   "source": [
    "n=int(input(\"enter the number\"))\n",
    "for i in range(1,11):\n",
    "    n*i\n",
    "    print(n ,\"*\" ,i, \"=\" ,n*i)\n",
    "    "
   ]
  },
  {
   "cell_type": "markdown",
   "id": "bc0b3bd2-843a-4dd5-b97d-8c9875d2c92a",
   "metadata": {},
   "source": [
    "\n",
    "**5** **Write a program to count the total number of digits in a  number**.\r\n"
   ]
  },
  {
   "cell_type": "code",
   "execution_count": 33,
   "id": "e02dcf44-30bc-409c-a12c-856cadbe30ff",
   "metadata": {},
   "outputs": [
    {
     "name": "stdin",
     "output_type": "stream",
     "text": [
      "enter the number 894747\n"
     ]
    },
    {
     "name": "stdout",
     "output_type": "stream",
     "text": [
      "6\n"
     ]
    }
   ],
   "source": [
    "count=0\n",
    "number=int(input(\"enter the number\"))\n",
    "while number>0:\n",
    "    number=number//10\n",
    "    count=count+1\n",
    "print(count)"
   ]
  },
  {
   "cell_type": "markdown",
   "id": "db5f9125-13d1-45b3-b4cd-54a4eef4a551",
   "metadata": {},
   "source": [
    "**6** **write a python program to create the total no of digits in a number .\n",
    "For example the number is 75869 so the output should be 5.for  abcdef5678 the  output should be 4.**\n",
    " "
   ]
  },
  {
   "cell_type": "code",
   "execution_count": 79,
   "id": "0773ef23-0884-40fb-931a-1563001427c3",
   "metadata": {},
   "outputs": [
    {
     "name": "stdin",
     "output_type": "stream",
     "text": [
      "enter the string abcdef5678\n"
     ]
    },
    {
     "name": "stdout",
     "output_type": "stream",
     "text": [
      "4\n"
     ]
    }
   ],
   "source": [
    "count=0\n",
    "string=input(\"enter the string\")\n",
    "for i in string:\n",
    "    if i.isdigit():\n",
    "        count=count+1\n",
    "print(count)\n"
   ]
  },
  {
   "cell_type": "markdown",
   "id": "887fa043-78b1-4ac3-adfd-1cd58d1d5794",
   "metadata": {},
   "source": [
    "**7** **Write a Python program which iterates the integers from 1 to 60. For multiples of three print \"Fizz\" instead of the number and for the multiples of five print \"Buzz”.**\n",
    "\r\n"
   ]
  },
  {
   "cell_type": "code",
   "execution_count": 82,
   "id": "4de6cdec-5296-417c-8e8e-940a37550ddf",
   "metadata": {},
   "outputs": [
    {
     "name": "stdout",
     "output_type": "stream",
     "text": [
      "3 Fizz\n",
      "5 Buzz\n",
      "6 Fizz\n",
      "9 Fizz\n",
      "10 Buzz\n",
      "12 Fizz\n",
      "15 Fizz\n",
      "18 Fizz\n",
      "20 Buzz\n",
      "21 Fizz\n",
      "24 Fizz\n",
      "25 Buzz\n",
      "27 Fizz\n",
      "30 Fizz\n",
      "33 Fizz\n",
      "35 Buzz\n",
      "36 Fizz\n",
      "39 Fizz\n",
      "40 Buzz\n",
      "42 Fizz\n",
      "45 Fizz\n",
      "48 Fizz\n",
      "50 Buzz\n",
      "51 Fizz\n",
      "54 Fizz\n",
      "55 Buzz\n",
      "57 Fizz\n"
     ]
    }
   ],
   "source": [
    "for i in range(1,60):\n",
    "  if i%3==0:\n",
    "      print(i,\"Fizz\")\n",
    "  elif i%5==0:\n",
    "      print(i,\"Buzz\")"
   ]
  },
  {
   "cell_type": "markdown",
   "id": "068be557-7ca4-43c2-bd55-92e844878cf3",
   "metadata": {},
   "source": [
    "**8**. **Write a Python program that accepts a string and calculates the number of digits and letters.**\r\n"
   ]
  },
  {
   "cell_type": "code",
   "execution_count": 113,
   "id": "6765ee24-b4c5-4594-a264-5d8c41bd7f7b",
   "metadata": {},
   "outputs": [
    {
     "name": "stdin",
     "output_type": "stream",
     "text": [
      "enter the string stnmdjyh177443iubxhsd\n"
     ]
    },
    {
     "name": "stdout",
     "output_type": "stream",
     "text": [
      "digits are 6\n",
      "letters are 15\n"
     ]
    }
   ],
   "source": [
    "count=0\n",
    "dgcount=0\n",
    "string=input(\"enter the string\")\n",
    "for i in string:\n",
    "    if  i.isdigit():\n",
    "        dgcount=dgcount+1\n",
    "    elif i.isalpha():\n",
    "         count=count+1\n",
    "print(\"digits are\",dgcount)\n",
    "print(\"letters are\",count)\n"
   ]
  },
  {
   "cell_type": "markdown",
   "id": "0e6bd48b-8214-44c2-9175-73c2c82735be",
   "metadata": {},
   "source": [
    "**9** **Write a Python program to check the validity of password input by users.Validation:\\n\",**\r\n",
    "**a. At least 1 letter between [a-z] and 1 letter between [A-Z]**,\r",
    "**b.\n",
    " At least 1 number between [0-9]**.,**c.\r\n",
    " At least 1 character from [$#@**].**d.,\r\n",
    " Minimum length 6 characters.,Maximum length 16 charac**ers.\r\n"
   ]
  },
  {
   "cell_type": "code",
   "execution_count": 27,
   "id": "0b605f5e-081a-4d58-bf9e-43d8ca6e935e",
   "metadata": {},
   "outputs": [
    {
     "name": "stdin",
     "output_type": "stream",
     "text": [
      "enter the user gsjshvs12\n"
     ]
    },
    {
     "name": "stdout",
     "output_type": "stream",
     "text": [
      "it is a valid password\n",
      "weak password\n"
     ]
    }
   ],
   "source": [
    "user=input(\"enter the user\")\n",
    "userpassword=(\"enter the password\")\n",
    "if len(userpassword)>6 or len(userpassword)<16:\n",
    "      print(\"it is a valid password\")\n",
    "else:\n",
    "      print(\"user password is not ok\")\n",
    "    \n",
    "if userpassword.upper()==userpassword or userpassword.lower()==userpassword or userpassword.isdigit()==userpassword:\n",
    "      print(\"weak password\")\n",
    "else: \n",
    "      print(\"strong password\")"
   ]
  },
  {
   "cell_type": "code",
   "execution_count": null,
   "id": "440dc20c-754c-446b-84f3-5ed89946d2da",
   "metadata": {},
   "outputs": [],
   "source": []
  },
  {
   "cell_type": "markdown",
   "id": "b8eb5bb5-9679-495d-8cf9-394b9e814153",
   "metadata": {},
   "source": [
    "**10 Write a program in Python to reverse a word by using while loop,for loop.**\r\n"
   ]
  },
  {
   "cell_type": "code",
   "execution_count": 3,
   "id": "45463a0b-6b86-4218-ba2a-36955aa988a3",
   "metadata": {},
   "outputs": [
    {
     "name": "stdin",
     "output_type": "stream",
     "text": [
      "enter the string shravni\n"
     ]
    },
    {
     "name": "stdout",
     "output_type": "stream",
     "text": [
      "invarhs\n"
     ]
    }
   ],
   "source": [
    "string=input(\"enter the string\")\n",
    "for i in string:\n",
    "    r=string[::-1]\n",
    "print(r)"
   ]
  },
  {
   "cell_type": "code",
   "execution_count": 29,
   "id": "4a13c3d5-4dca-4593-842e-298ca446392a",
   "metadata": {},
   "outputs": [
    {
     "name": "stdin",
     "output_type": "stream",
     "text": [
      "enter string you\n"
     ]
    },
    {
     "name": "stdout",
     "output_type": "stream",
     "text": [
      "uoy\n"
     ]
    }
   ],
   "source": [
    "num=input(\"enter string\")\n",
    "i=len(num)-1\n",
    "rev=[]\n",
    "while i>0:\n",
    "    rev=num[::-1]\n",
    "    i=i-1    \n",
    "print(rev)"
   ]
  },
  {
   "cell_type": "markdown",
   "id": "1efe70f5-6a0b-4c87-ab5f-93a24258834a",
   "metadata": {},
   "source": [
    "**11**  **Write a program which takes 10 integers as input using loop and print their average value on the screen**\n",
    "\n",
    "\n"
   ]
  },
  {
   "cell_type": "code",
   "execution_count": 176,
   "id": "19f0b5b7-8b7e-4799-9587-fa2b40391e68",
   "metadata": {},
   "outputs": [
    {
     "name": "stdout",
     "output_type": "stream",
     "text": [
      "addition of integers 55\n",
      "average of integers 5.5\n"
     ]
    }
   ],
   "source": [
    "res=0\n",
    "num=0\n",
    "for i in range(1,11):\n",
    "    res=res+i\n",
    "    num=1+num\n",
    "    avg=res/num\n",
    "print(\"addition of integers\",res)\n",
    "print(\"average of integers\",avg)\n",
    "     "
   ]
  },
  {
   "cell_type": "code",
   "execution_count": null,
   "id": "6e0f7242-3751-449b-a1c5-db434e1b5a5b",
   "metadata": {},
   "outputs": [],
   "source": []
  }
 ],
 "metadata": {
  "kernelspec": {
   "display_name": "Python 3 (ipykernel)",
   "language": "python",
   "name": "python3"
  },
  "language_info": {
   "codemirror_mode": {
    "name": "ipython",
    "version": 3
   },
   "file_extension": ".py",
   "mimetype": "text/x-python",
   "name": "python",
   "nbconvert_exporter": "python",
   "pygments_lexer": "ipython3",
   "version": "3.12.4"
  }
 },
 "nbformat": 4,
 "nbformat_minor": 5
}
