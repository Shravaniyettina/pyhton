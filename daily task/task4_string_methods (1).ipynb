{
  "nbformat": 4,
  "nbformat_minor": 0,
  "metadata": {
    "colab": {
      "provenance": []
    },
    "kernelspec": {
      "name": "python3",
      "display_name": "Python 3"
    },
    "language_info": {
      "name": "python"
    }
  },
  "cells": [
    {
      "cell_type": "code",
      "execution_count": null,
      "metadata": {
        "id": "5oO3f9NCuoil"
      },
      "outputs": [],
      "source": []
    },
    {
      "cell_type": "markdown",
      "source": [
        "1 q\n",
        "How do you repeat a string multiple times?\n",
        "Example:  input = “Innomatics”\n",
        "                  Output  = “Innomatics  Innomatics Innomatics”\n"
      ],
      "metadata": {
        "id": "0pyKfhp3uv7_"
      }
    },
    {
      "cell_type": "code",
      "source": [
        "input=\"welcome to world \"\n",
        "print(input*3)"
      ],
      "metadata": {
        "colab": {
          "base_uri": "https://localhost:8080/"
        },
        "id": "ifTu5tTIuy8-",
        "outputId": "ee27a0b2-4f0e-47e8-92dc-fa24d648e418"
      },
      "execution_count": null,
      "outputs": [
        {
          "output_type": "stream",
          "name": "stdout",
          "text": [
            "welcome to world welcome to world welcome to world \n"
          ]
        }
      ]
    },
    {
      "cell_type": "markdown",
      "source": [
        "3 Q\n",
        "What is the difference between string.find() and string.index() ? Explain with examples.\n",
        "\n"
      ],
      "metadata": {
        "id": "mXdyP4X_vI-v"
      }
    },
    {
      "cell_type": "code",
      "source": [
        "#string.find()\n",
        "print(\"iam going to hyderabad\".find(\"a\"))#it checks from the word  from left to right such as from starting index.\n",
        "#string.rfind\n",
        "print(\"iam going to hyderabad\".rfind(\"a\"))#it checks the word  from the right to left.\n",
        "#string.index()\n",
        "print(\"iam going to hyderabad\".index(\"a\"))#it also checks the word from left such as starting index.\n",
        "\n",
        "\n",
        "\n"
      ],
      "metadata": {
        "colab": {
          "base_uri": "https://localhost:8080/"
        },
        "id": "higXGtUzvTYt",
        "outputId": "933c0dc0-ec1d-4da1-875e-16ef9b53aaf1"
      },
      "execution_count": null,
      "outputs": [
        {
          "output_type": "stream",
          "name": "stdout",
          "text": [
            "1\n",
            "20\n",
            "1\n"
          ]
        }
      ]
    },
    {
      "cell_type": "code",
      "source": [],
      "metadata": {
        "id": "NbhlJbb5v6Ii"
      },
      "execution_count": null,
      "outputs": []
    },
    {
      "cell_type": "markdown",
      "source": [
        "4 Q\n",
        "S = “Ram Raj Ram”\n",
        "Expected output: “Ram raj ram”\n"
      ],
      "metadata": {
        "id": "b90PunsG1fuD"
      }
    },
    {
      "cell_type": "code",
      "source": [
        "b=\"vijaya Calls Me With Good Name\".capitalize()\n",
        "print(b)"
      ],
      "metadata": {
        "colab": {
          "base_uri": "https://localhost:8080/"
        },
        "id": "BsU6lGRq1lL9",
        "outputId": "8933e69e-b604-4864-9778-d1dc102b3979"
      },
      "execution_count": null,
      "outputs": [
        {
          "output_type": "stream",
          "name": "stdout",
          "text": [
            "Vijaya calls me with good name\n"
          ]
        }
      ]
    },
    {
      "cell_type": "markdown",
      "source": [
        "5Q\n",
        " Given two strings, first_name and last_name, write a function that concatenates them to form a full name with a space in between. Ensure the resulting full name has the first letter of each word capitalized correctly.\n"
      ],
      "metadata": {
        "id": "KEUSuDZ12jNR"
      }
    },
    {
      "cell_type": "markdown",
      "source": [],
      "metadata": {
        "id": "BZ-Uel7y2oFt"
      }
    },
    {
      "cell_type": "markdown",
      "source": [],
      "metadata": {
        "id": "x5k7rwpS4zfV"
      }
    },
    {
      "cell_type": "code",
      "source": [
        "first_name=input(\"enter your firstname\")"
      ],
      "metadata": {
        "colab": {
          "base_uri": "https://localhost:8080/",
          "height": 141
        },
        "id": "zzpT_FBh5wtq",
        "outputId": "eed50118-04b4-4c6a-e07a-e2337e59ba96"
      },
      "execution_count": null,
      "outputs": [
        {
          "output_type": "error",
          "ename": "TypeError",
          "evalue": "'str' object is not callable",
          "traceback": [
            "\u001b[0;31m---------------------------------------------------------------------------\u001b[0m",
            "\u001b[0;31mTypeError\u001b[0m                                 Traceback (most recent call last)",
            "\u001b[0;32m<ipython-input-43-a19968f7f9c3>\u001b[0m in \u001b[0;36m<cell line: 1>\u001b[0;34m()\u001b[0m\n\u001b[0;32m----> 1\u001b[0;31m \u001b[0mfirst_name\u001b[0m\u001b[0;34m=\u001b[0m\u001b[0minput\u001b[0m\u001b[0;34m(\u001b[0m\u001b[0;34m\"enter your firstname\"\u001b[0m\u001b[0;34m)\u001b[0m\u001b[0;34m\u001b[0m\u001b[0;34m\u001b[0m\u001b[0m\n\u001b[0m",
            "\u001b[0;31mTypeError\u001b[0m: 'str' object is not callable"
          ]
        }
      ]
    },
    {
      "cell_type": "code",
      "source": [],
      "metadata": {
        "id": "u23HM3gU52gl"
      },
      "execution_count": null,
      "outputs": []
    }
  ]
}