{
  "nbformat": 4,
  "nbformat_minor": 0,
  "metadata": {
    "colab": {
      "provenance": []
    },
    "kernelspec": {
      "name": "python3",
      "display_name": "Python 3"
    },
    "language_info": {
      "name": "python"
    }
  },
  "cells": [
    {
      "cell_type": "markdown",
      "source": [
        "Q1. Define two variables, a and b, with values 12 and 5 respectively. Write a Python program to calculate and print their sum, difference, product, quotient, and modulus."
      ],
      "metadata": {
        "id": "L4JfUOw0uJ8Y"
      }
    },
    {
      "cell_type": "code",
      "source": [
        "#Define two variables, a and b, with values 12 and 5 respectively\n",
        "\n",
        "a = 12 #defining variable a with value 12\n",
        "\n",
        "b = 5 #defining variable b with value 5\n",
        "\n",
        "print(\"Sum of a and b:\",a+b) #adding a and b\n",
        "\n",
        "print(\"Difference between a and b:\",a-b) #subtracting b from a\n",
        "\n",
        "print(\"Product of a and b:\",a*b) #multiplying a and b\n",
        "\n",
        "print(\"Quotient of a and b:\",a/b) #dividing a by b\n",
        "\n",
        "print(\"Modulus of a and b:\",a%b) #finding modulus of a and b"
      ],
      "metadata": {
        "colab": {
          "base_uri": "https://localhost:8080/"
        },
        "id": "1g2o7gZGv9CL",
        "outputId": "42b6d753-f257-40e8-a828-2fe0e2b57e7c"
      },
      "execution_count": null,
      "outputs": [
        {
          "output_type": "stream",
          "name": "stdout",
          "text": [
            "Sum of a and b: 17\n",
            "Difference between a and b: 7\n",
            "Product of a and b: 60\n",
            "Quotient of a and b: 2.4\n",
            "Modulus of a and b: 2\n"
          ]
        }
      ]
    },
    {
      "cell_type": "markdown",
      "source": [
        "Q2. Write a Python program to evaluate the expression (8 + 2) * (3 - 1) ** 2 / 2 and explain how the use of parentheses affects the result using comments.\n"
      ],
      "metadata": {
        "id": "vyU4E3Lwwbiw"
      }
    },
    {
      "cell_type": "code",
      "source": [
        "result = (8 + 2) * (3 - 1) ** 2 / 2\n",
        "\n",
        "print(\"The result of the expression (8 + 2) * (3 - 1) ** 2 / 2 is:\", result) # Print the result."
      ],
      "metadata": {
        "colab": {
          "base_uri": "https://localhost:8080/"
        },
        "id": "k-EtjTj3wpFa",
        "outputId": "822f5be7-896d-43fa-8a4e-07fb80bd9777"
      },
      "execution_count": null,
      "outputs": [
        {
          "output_type": "stream",
          "name": "stdout",
          "text": [
            "The result of the expression (8 + 2) * (3 - 1) ** 2 / 2 is: 20.0\n"
          ]
        }
      ]
    },
    {
      "cell_type": "markdown",
      "source": [
        "### Explanation of how parentheses affect the result:\n",
        "\n",
        "1. (8 + 2): Parentheses ensure that the addition is performed first, giving us 10.\n",
        "\n",
        "2. (3 - 1): Parentheses ensure that the subtraction is performed next, giving us 2.\n",
        "\n",
        "3. (3 - 1) ** 2: The result of the subtraction (2) is then squared, giving us 4.\n",
        "\n",
        "4. (8 + 2) * (3 - 1) ** 2: This results in 10 * 4, which equals 40.\n",
        "\n",
        "5. (8 + 2) * (3 - 1) ** 2 / 2: Finally, 40 is divided by 2, giving us the final result of 20.0.\n",
        "\n",
        "Without parentheses, the order of operations (PEMDAS/BODMAS) would change the result."
      ],
      "metadata": {
        "id": "eosEdbtC7h-W"
      }
    },
    {
      "cell_type": "markdown",
      "source": [
        "Q3.Given three boolean variables, p = True, q = False, and r = True, write a Python program that evaluates and prints the result of the logical expressions p and q, p or q, and not r."
      ],
      "metadata": {
        "id": "4r5x3Agk4rs8"
      }
    },
    {
      "cell_type": "code",
      "source": [
        "# Given three boolean variables\n",
        "\n",
        "p = True\n",
        "\n",
        "q = False\n",
        "\n",
        "r = True\n",
        "\n",
        "# Evaluating and printing the result of the logical expressions\n",
        "\n",
        "print (\"The value of (p and q) is:\", p and q) # printing the logical expression (p and q)\n",
        "\n",
        "print (\"The value of (p or q) is:\", p or q) # printing the logical expression (p or q)\n",
        "\n",
        "print (\"The value of (not r) is:\", not r) # printing the logical expression (not r)"
      ],
      "metadata": {
        "colab": {
          "base_uri": "https://localhost:8080/"
        },
        "id": "EgsHZwRk4vxX",
        "outputId": "24af46f4-43b9-402c-ba74-cea1acfb2802"
      },
      "execution_count": null,
      "outputs": [
        {
          "output_type": "stream",
          "name": "stdout",
          "text": [
            "The value of (p and q) is: False\n",
            "The value of (p or q) is: True\n",
            "The value of (not r) is: False\n"
          ]
        }
      ]
    },
    {
      "cell_type": "markdown",
      "source": [
        "Q4. Write a Python program to evaluate the expression 10 + 2 * 3 / 4 - 5 ** 2 and print the result. Explain the order in which the operations are performed using comments."
      ],
      "metadata": {
        "id": "90U44UP17_vh"
      }
    },
    {
      "cell_type": "code",
      "source": [
        "expression = 10 + 2 * 3 / 4 - 5 ** 2\n",
        "\n",
        "print(\"The result of the expression 10 + 2 * 3 / 4 - 5 ** 2 is:\", expression) # printing the given expression"
      ],
      "metadata": {
        "colab": {
          "base_uri": "https://localhost:8080/"
        },
        "id": "QdbfRDDR8yjV",
        "outputId": "1fc5cf3c-696d-49d2-ec5d-274f0d36302a"
      },
      "execution_count": null,
      "outputs": [
        {
          "output_type": "stream",
          "name": "stdout",
          "text": [
            "The result of the expression 10 + 2 * 3 / 4 - 5 ** 2 is: -13.5\n"
          ]
        }
      ]
    },
    {
      "cell_type": "markdown",
      "source": [
        "### Explanation of the order of operations:\n",
        "\n",
        "1. Exponents : 5 ** 2 is calculated first, giving us 25.\n",
        "\n",
        "2. Multiplication and Division (from left to right) :  \n",
        "\n",
        "   * Multiplication - 2 * 3 is calculated next, giving us 6.\n",
        "\n",
        "   * Division - 6 / 4 is then calculated, giving us 1.5.\n",
        "\n",
        "3. Addition and Subtraction (from left to right) :\n",
        "\n",
        "   * Addition - 10 + 1.5 is calculated next, giving us 11.5.\n",
        "\n",
        "   * Subtraction - 11.5 - 25 is calculated last, giving us -13.5."
      ],
      "metadata": {
        "id": "xqSv2e7J9Vxu"
      }
    },
    {
      "cell_type": "markdown",
      "source": [
        "Q5. Explain the difference between logical operators (and, or, not) and bitwise operators (&, |, ~) with examples."
      ],
      "metadata": {
        "id": "X0YdCJfOA-xC"
      }
    },
    {
      "cell_type": "markdown",
      "source": [
        "Logical operators (`and`, `or`, `not`) and bitwise operators (`&`, `|`, `~`) are used in programming for different purposes, although they can sometimes appear similar.\n",
        "\n",
        "### Logical Operators:\n",
        "\n",
        "Logical operators are used to combine or modify boolean values (True or False). They work at the level of boolean logic and are used in control flow statements.\n",
        "\n",
        "### Bitwise Operators:\n",
        "\n",
        "Bitwise operators perform operations on the individual bits of integer values. They are used in lower-level programming, such as systems programming, for direct manipulation of binary data.\n"
      ],
      "metadata": {
        "id": "yy2fqSJDFY5s"
      }
    },
    {
      "cell_type": "code",
      "source": [
        "# creating sample variables to show difference between logical and bitwise operators\n",
        "\n",
        "a = 20 # creating a sample variable a\n",
        "\n",
        "b = 30 # creating a sample variable b\n",
        "\n",
        "print(a > 50 and b > 50) # printing the logical ' and ' operation\n",
        "\n",
        "print(a < 50 and b < 50) # printing the logical ' and ' operation\n",
        "\n",
        "print(a & b) # printing the bitwise ' & ' operation\n",
        "\n",
        "print(a > 50 or b < 50) # printing the logical ' or ' operation\n",
        "\n",
        "print(a < 50 or b > 50) # printing the logical ' or ' operation\n",
        "\n",
        "print(a | b)  # printing the bitwise ' or ' operation\n",
        "\n",
        "print(not(a < 50)) # printing the logical ' not ' operation\n",
        "\n",
        "print(not(a > 50))  # printing the logical ' not ' operation\n",
        "\n",
        "print(~a) # printing the bitwise ' ~ ' operation\n",
        "\n",
        "print(~b) # printing the bitwise ' ~ ' operation"
      ],
      "metadata": {
        "colab": {
          "base_uri": "https://localhost:8080/"
        },
        "id": "7xC1TKVuFKRe",
        "outputId": "ea035813-13d6-433f-c1c7-d4d766a3b66b"
      },
      "execution_count": null,
      "outputs": [
        {
          "output_type": "stream",
          "name": "stdout",
          "text": [
            "False\n",
            "True\n",
            "20\n",
            "True\n",
            "True\n",
            "30\n",
            "False\n",
            "True\n",
            "-21\n",
            "-31\n"
          ]
        }
      ]
    },
    {
      "cell_type": "code",
      "source": [],
      "metadata": {
        "id": "LnvQ2tjkJLFG"
      },
      "execution_count": null,
      "outputs": []
    }
  ]
}