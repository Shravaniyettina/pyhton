{
  "nbformat": 4,
  "nbformat_minor": 0,
  "metadata": {
    "colab": {
      "provenance": []
    },
    "kernelspec": {
      "name": "python3",
      "display_name": "Python 3"
    },
    "language_info": {
      "name": "python"
    }
  },
  "cells": [
    {
      "cell_type": "markdown",
      "source": [
        "Q1.\n",
        "    Create a variable to store the string \"Earth revolves around the sun\"\n",
        "- Print \"revolves\" using slice operator\n",
        "- Print \"sun\" using negative index\n",
        "  Create a string made of the middle two characters.\n",
        "Example input: Innomatics\n",
        "Example output: ma\n"
      ],
      "metadata": {
        "id": "MHXG1EYGfCoj"
      }
    },
    {
      "cell_type": "code",
      "source": [
        "#1(a)\n",
        "data1=\"Earth revolves around the sun\"\n",
        "print(len(data1))\n",
        "print(data1[6:14])\n",
        "print(data1[-3:])\n"
      ],
      "metadata": {
        "colab": {
          "base_uri": "https://localhost:8080/"
        },
        "id": "tsSXCkGOfKEL",
        "outputId": "5006e6b9-4dbb-482e-8fa0-1865fa66e6cd"
      },
      "execution_count": null,
      "outputs": [
        {
          "output_type": "stream",
          "name": "stdout",
          "text": [
            "29\n",
            "revolves\n",
            "sun\n"
          ]
        }
      ]
    },
    {
      "cell_type": "markdown",
      "source": [
        "1B Create a string made of the middle two characters.\n",
        "Example input: Innomatics\n",
        "Example output: ma"
      ],
      "metadata": {
        "id": "K7LE7j4C2RWR"
      }
    },
    {
      "cell_type": "code",
      "source": [
        "#1(B)\n",
        "name=\"innomatics\"\n",
        "print(len(name))\n",
        "print(name[4:6])"
      ],
      "metadata": {
        "colab": {
          "base_uri": "https://localhost:8080/"
        },
        "id": "ofiPP2E_izCS",
        "outputId": "24374d62-6a07-4f84-bce8-d20630fe7cdb"
      },
      "execution_count": null,
      "outputs": [
        {
          "output_type": "stream",
          "name": "stdout",
          "text": [
            "10\n",
            "ma\n"
          ]
        }
      ]
    },
    {
      "cell_type": "markdown",
      "source": [
        "Q2.  Write a program to create a new string made of an input string’s first, middle, and       last character.\n",
        "  Example input: Holiday\n",
        "  Example output: Hiy\n",
        "\n"
      ],
      "metadata": {
        "id": "N9_raN0-io2n"
      }
    },
    {
      "cell_type": "code",
      "source": [
        "string1=\"Holiday\"\n",
        "print(len(string1))\n",
        "print(string1[0:7:3])\n",
        "\n"
      ],
      "metadata": {
        "colab": {
          "base_uri": "https://localhost:8080/"
        },
        "id": "Nl0JCcH5mOny",
        "outputId": "e23c2e31-dc21-4b71-e364-db3c602a0d5b"
      },
      "execution_count": null,
      "outputs": [
        {
          "output_type": "stream",
          "name": "stdout",
          "text": [
            "7\n",
            "Hiy\n"
          ]
        }
      ]
    },
    {
      "cell_type": "markdown",
      "source": [
        "Q3.  Explore five different string methods and explain with examples.\n"
      ],
      "metadata": {
        "id": "DQ-U5QWO3C5V"
      }
    },
    {
      "cell_type": "markdown",
      "source": [
        "string method are:\n",
        "lower()\n",
        "upper()\n",
        "strip()\n",
        "split()\n",
        "replace()\n",
        "captalize()\n",
        "casefold()\n",
        "title()\n",
        "swapcase()\n",
        "startswith()\n",
        "endswith()\n",
        "title()\n"
      ],
      "metadata": {
        "id": "6RQEoJe5mVc5"
      }
    },
    {
      "cell_type": "code",
      "source": [
        "#LOWER\n",
        "string1=\"HERE THE EXAMPLE\"\n",
        "b=string1.lower()#it converts the lower\n",
        "print(b)"
      ],
      "metadata": {
        "colab": {
          "base_uri": "https://localhost:8080/"
        },
        "id": "azEktRuinw_W",
        "outputId": "e12fa3cb-7ddc-42fb-982b-76fa43b4c03b"
      },
      "execution_count": null,
      "outputs": [
        {
          "output_type": "stream",
          "name": "stdout",
          "text": [
            "here the example\n"
          ]
        }
      ]
    },
    {
      "cell_type": "code",
      "source": [
        "#upper\n",
        "a=\"welcome to innomatics\"\n",
        "b=a.upper()#it converts the upper\n",
        "print(b)\n"
      ],
      "metadata": {
        "colab": {
          "base_uri": "https://localhost:8080/"
        },
        "id": "cuDbuWL5oLo2",
        "outputId": "325d50e0-a1fa-44d9-bad9-45ca7a85bea6"
      },
      "execution_count": null,
      "outputs": [
        {
          "output_type": "stream",
          "name": "stdout",
          "text": [
            "WELCOME TO INNOMATICS\n"
          ]
        }
      ]
    },
    {
      "cell_type": "code",
      "source": [
        "#strip\n",
        "a=\"   welcome to the world  \"#remove the spaces at right and left side\n",
        "b=a.strip()\n",
        "print(b)"
      ],
      "metadata": {
        "colab": {
          "base_uri": "https://localhost:8080/"
        },
        "id": "LMs32dTTof9H",
        "outputId": "78cf4b31-29fd-4bc0-fccd-0c873fe4cc48"
      },
      "execution_count": null,
      "outputs": [
        {
          "output_type": "stream",
          "name": "stdout",
          "text": [
            "welcome to the world\n"
          ]
        }
      ]
    },
    {
      "cell_type": "code",
      "source": [
        "#split## it splits the words\n",
        "a=\"be a independent girl\"\n",
        "b=a.split()\n",
        "print(b)\n"
      ],
      "metadata": {
        "colab": {
          "base_uri": "https://localhost:8080/"
        },
        "id": "eVjYDYdMpCK4",
        "outputId": "f595c850-1824-435d-e2bb-f0da8b7c9d55"
      },
      "execution_count": null,
      "outputs": [
        {
          "output_type": "stream",
          "name": "stdout",
          "text": [
            "['be', 'a', 'independent', 'girl']\n"
          ]
        }
      ]
    },
    {
      "cell_type": "code",
      "source": [
        "#replace-it can replace with another word\n",
        "a=\"i love to travel the world \"\n",
        "b=a.replace(\"world\",\"universe\")\n",
        "print(b)"
      ],
      "metadata": {
        "colab": {
          "base_uri": "https://localhost:8080/"
        },
        "id": "I3jCeyybpUUd",
        "outputId": "17860249-5b94-4f17-e31e-3b8f4beb3ba6"
      },
      "execution_count": null,
      "outputs": [
        {
          "output_type": "stream",
          "name": "stdout",
          "text": [
            "i love to travel the universe \n"
          ]
        }
      ]
    },
    {
      "cell_type": "code",
      "source": [
        "#captalize-is used to captalize the first word\n",
        "a=\"i love india\"\n",
        "b=a.capitalize()\n",
        "print(b)"
      ],
      "metadata": {
        "colab": {
          "base_uri": "https://localhost:8080/"
        },
        "id": "nV5P63fop-TC",
        "outputId": "c34d54b1-6855-4b72-acf1-410e88bb7e8c"
      },
      "execution_count": null,
      "outputs": [
        {
          "output_type": "stream",
          "name": "stdout",
          "text": [
            "I love india\n"
          ]
        }
      ]
    },
    {
      "cell_type": "code",
      "source": [
        "#swapcase---it coverts the upper case to lower case and lower case to upper case vice versa\n",
        "a=\"we are indhgfJHCGHJBns\"\n",
        "b=a.swapcase()\n",
        "print(b)"
      ],
      "metadata": {
        "colab": {
          "base_uri": "https://localhost:8080/"
        },
        "id": "5ch7TTUJqXvx",
        "outputId": "def41221-77ab-4fe0-e5c0-c51314d6d394"
      },
      "execution_count": null,
      "outputs": [
        {
          "output_type": "stream",
          "name": "stdout",
          "text": [
            "WE ARE INDHGFjhcghjbNS\n"
          ]
        }
      ]
    },
    {
      "cell_type": "code",
      "source": [
        "#count---it gives about number of times specific word repeated\n",
        "a=\"plese help!,please ....help\"\n",
        "b=a.count(\"please\")\n",
        "print(b)"
      ],
      "metadata": {
        "colab": {
          "base_uri": "https://localhost:8080/"
        },
        "id": "1MvjjUNaqwYp",
        "outputId": "cfb243f6-e028-4628-a1ef-567e7eac307a"
      },
      "execution_count": null,
      "outputs": [
        {
          "output_type": "stream",
          "name": "stdout",
          "text": [
            "1\n"
          ]
        }
      ]
    },
    {
      "cell_type": "code",
      "source": [
        "#startswith--it gives the about the word startswith when there is a word present it gives the true ,.if we enter the wrong  word from string,it gives false\n",
        "a=\"welcome to innomatics\"\n",
        "b=a.startswith(\"welcome\")\n",
        "print(b)"
      ],
      "metadata": {
        "colab": {
          "base_uri": "https://localhost:8080/"
        },
        "id": "ea9ObYIUrWMg",
        "outputId": "2ea43e2b-cd2a-4bd5-c139-e1da6f3737b5"
      },
      "execution_count": null,
      "outputs": [
        {
          "output_type": "stream",
          "name": "stdout",
          "text": [
            "True\n"
          ]
        }
      ]
    },
    {
      "cell_type": "code",
      "source": [
        "#endswith--it gives the word endswith,when the word present in string gives true.if we enter the wrong word from string,it gives the false\n",
        "a=\"here the example\"\n",
        "b=a.endswith(\"example\")\n",
        "print(b)"
      ],
      "metadata": {
        "colab": {
          "base_uri": "https://localhost:8080/"
        },
        "id": "urWmuCFlr44D",
        "outputId": "55d9bc41-343e-4654-837c-46c47217224a"
      },
      "execution_count": null,
      "outputs": [
        {
          "output_type": "stream",
          "name": "stdout",
          "text": [
            "True\n"
          ]
        }
      ]
    },
    {
      "cell_type": "code",
      "source": [
        "#title--coverts the first letter of each word capital\n",
        "a= \" we are living in nizamabad\"\n",
        "b=a.title()\n",
        "print(b)"
      ],
      "metadata": {
        "colab": {
          "base_uri": "https://localhost:8080/"
        },
        "id": "xB8ybvDYttNR",
        "outputId": "914b46d3-5846-4a98-ef4d-de21c8071315"
      },
      "execution_count": null,
      "outputs": [
        {
          "output_type": "stream",
          "name": "stdout",
          "text": [
            " We Are Living In Nizamabad\n"
          ]
        }
      ]
    },
    {
      "cell_type": "markdown",
      "source": [
        "4.\n",
        "Write a program that takes a sentence ='Give papa a cup of proper coffee in a copper coffee cup' as input and replaces all occurrences of the word \"coffee\" with \"tea\".\n",
        "Check if the above sentence starts with \"Hello\" and ends with \"cup\".\n",
        "Return the above sentence in title case and capital case.\n",
        "\n"
      ],
      "metadata": {
        "id": "3EVPK-K6vgFP"
      }
    },
    {
      "cell_type": "code",
      "source": [
        "input=\"Give papa a cup of proper coffee in a copper coffee cup\"\n",
        "b= input.replace(\"coffee\",\"tea\")\n",
        "print(b)\n",
        "c=input.startswith(\"Hello\")\n",
        "print(c)\n",
        "d=input.endswith(\"cup\")\n",
        "print(d)\n",
        "e=input.title()\n",
        "print(e)\n",
        "f=input.capitalize()\n",
        "print(f)"
      ],
      "metadata": {
        "colab": {
          "base_uri": "https://localhost:8080/"
        },
        "id": "UETlo7GBvvB8",
        "outputId": "fa2b0506-8290-4917-a107-b5ac13c6d967"
      },
      "execution_count": null,
      "outputs": [
        {
          "output_type": "stream",
          "name": "stdout",
          "text": [
            "Give papa a cup of proper tea in a copper tea cup\n",
            "False\n",
            "True\n",
            "Give Papa A Cup Of Proper Coffee In A Copper Coffee Cup\n",
            "Give papa a cup of proper coffee in a copper coffee cup\n"
          ]
        }
      ]
    }
  ]
}