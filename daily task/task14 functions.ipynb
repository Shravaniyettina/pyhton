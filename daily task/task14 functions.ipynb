{
 "cells": [
  {
   "cell_type": "markdown",
   "id": "8b3d6429-c7dd-4482-b9c9-7d22c66619ea",
   "metadata": {},
   "source": [
    "# task 14"
   ]
  },
  {
   "cell_type": "markdown",
   "id": "2f651006-ed01-4587-ba17-2b4dcc1cc926",
   "metadata": {},
   "source": [
    "**1Say, a=27, b=15. Create a lambda function that multiplies argument 'a' with argument 'b' and prints the result.**\r\n"
   ]
  },
  {
   "cell_type": "code",
   "execution_count": 161,
   "id": "9feee204-2916-4e0b-bfe7-823a657e2420",
   "metadata": {},
   "outputs": [
    {
     "data": {
      "text/plain": [
       "405"
      ]
     },
     "execution_count": 161,
     "metadata": {},
     "output_type": "execute_result"
    }
   ],
   "source": [
    "multiple=lambda a,b:a*b\n",
    "multiple(27,15)"
   ]
  },
  {
   "cell_type": "markdown",
   "id": "34a489d1-8047-4091-ad3e-d225bdf8ba12",
   "metadata": {},
   "source": [
    "**1 b Use map() with a lambda function to square each element of a given list.**\r",
    "**\n",
    "list1 = [32,45,67,83,2,4,8,10**]\r\n",
    "\r\n"
   ]
  },
  {
   "cell_type": "code",
   "execution_count": 163,
   "id": "94e533f5-4e53-4dc0-a502-8f44f25312fa",
   "metadata": {},
   "outputs": [
    {
     "data": {
      "text/plain": [
       "[1024, 2025, 4489, 6889, 4, 16, 64, 100]"
      ]
     },
     "execution_count": 163,
     "metadata": {},
     "output_type": "execute_result"
    }
   ],
   "source": [
    "s=[32,45,67,83,2,4,8,10]\n",
    "list(map(lambda x:x**2,s))"
   ]
  },
  {
   "cell_type": "markdown",
   "id": "1f479a95-1be7-43cc-a45a-2aab771c04c8",
   "metadata": {},
   "source": [
    "**2a  Using in-built function filter() with a lambda function filter even numbers from a given list.**\r",
    "**\n",
    "num = [17, 20, 32, 45, 53, 61, 72, 84, 97**]\r\n"
   ]
  },
  {
   "cell_type": "code",
   "execution_count": 152,
   "id": "5ace3c13-6036-4121-8d34-7dd23403c9d7",
   "metadata": {},
   "outputs": [
    {
     "data": {
      "text/plain": [
       "[20, 32, 72, 84]"
      ]
     },
     "execution_count": 152,
     "metadata": {},
     "output_type": "execute_result"
    }
   ],
   "source": [
    "num=[17,20,32,45,53,61,72,84,97]\n",
    "list(filter(lambda x:x%2==0,num))"
   ]
  },
  {
   "cell_type": "markdown",
   "id": "d7c85a5f-5b66-43dc-a034-304baaf5ab68",
   "metadata": {},
   "source": [
    "**2b Find the product of all numbers in the list using reduce and lambda functions.**\r",
    "**\n",
    "nums = [15, 2, 31, 4, 56**]\r\n"
   ]
  },
  {
   "cell_type": "code",
   "execution_count": 154,
   "id": "0ad0b35b-3e79-4c18-8180-79ac0907d8fd",
   "metadata": {},
   "outputs": [
    {
     "data": {
      "text/plain": [
       "208320"
      ]
     },
     "execution_count": 154,
     "metadata": {},
     "output_type": "execute_result"
    }
   ],
   "source": [
    "from functools import reduce\n",
    "nums=[15,2,31,4,56]\n",
    "reduce(lambda x,nums:x*nums,nums)"
   ]
  },
  {
   "cell_type": "markdown",
   "id": "79e4459c-d663-40ac-9eb6-5fdd2fd3ce68",
   "metadata": {},
   "source": [
    "**Q3**. **Use a lambda function to create a grade list from a list of student scores**\r\n",
    "\n",
    " \n",
    " **\tscores = [88, 92, 78, 95, 86**\n",
    "  **\r\n",
    "A grade if score greater than **\n",
    "0** \r\n",
    "B grade if score greater than** \n",
    "80 \r\n",
    "else grad\n",
    "e C.\r\n",
    "Expected Output: grade= ['B', 'A', 'C', 'A',** 'B']\r\n"
   ]
  },
  {
   "cell_type": "code",
   "execution_count": 263,
   "id": "2d185119-10bf-49b3-9b7e-35cc8185cd0d",
   "metadata": {},
   "outputs": [
    {
     "name": "stdout",
     "output_type": "stream",
     "text": [
      "['B', 'A', 'C', 'A', 'B']\n"
     ]
    }
   ],
   "source": [
    "scores = [88, 92, 78, 95, 86]\n",
    "grades = list(map(lambda x: \"A\" if x > 90 else (\"B\" if x > 80 else \"C\"), scores))\n",
    "print(grades)\n"
   ]
  },
  {
   "cell_type": "markdown",
   "id": "047cf5ac-8ad3-49ef-af89-1eefbac8c578",
   "metadata": {},
   "source": [
    "**4\n",
    "Q. Filter the palindromes from a given iterabl  **\n",
    ".**  list2= [Java, mom, dad, nun, pytho**\n",
    "       ]**   Expected o/p : [ mom, dad ,n** u \r\n",
    "\r\n"
   ]
  },
  {
   "cell_type": "code",
   "execution_count": 275,
   "id": "ed4ef535-a1a1-4248-8734-66d52f11e369",
   "metadata": {},
   "outputs": [
    {
     "data": {
      "text/plain": [
       "['mom', 'dad', 'nun']"
      ]
     },
     "execution_count": 275,
     "metadata": {},
     "output_type": "execute_result"
    }
   ],
   "source": [
    "list2=[\"java\",\"mom\",\"dad\",\"nun\",\"python\"]\n",
    "list(filter(lambda x:x if x==x[::-1] else None,list2))"
   ]
  },
  {
   "cell_type": "code",
   "execution_count": 284,
   "id": "c016c154-b690-4a82-a911-1ebb775d3f02",
   "metadata": {},
   "outputs": [
    {
     "data": {
      "text/plain": [
       "['mom', 'dad', 'nun']"
      ]
     },
     "execution_count": 284,
     "metadata": {},
     "output_type": "execute_result"
    }
   ],
   "source": [
    "list2=[\"java\",\"mom\",\"dad\",\"nun\",\"python\"]\n",
    "list3=[]\n",
    "def palindrome(list2):\n",
    "    for i in list2:\n",
    "        if i==i[::-1]:\n",
    "            list3.append(i)\n",
    "    return list3\n",
    "palindrome(list2)"
   ]
  },
  {
   "cell_type": "code",
   "execution_count": null,
   "id": "55365e8c-05c2-4e81-8b18-c0bd26b8fdca",
   "metadata": {},
   "outputs": [],
   "source": []
  },
  {
   "cell_type": "code",
   "execution_count": null,
   "id": "3647852b-4488-4726-b8f1-8273024984c5",
   "metadata": {},
   "outputs": [],
   "source": []
  },
  {
   "cell_type": "code",
   "execution_count": null,
   "id": "f4789809-a750-4d5a-a248-7f7ede986eab",
   "metadata": {},
   "outputs": [],
   "source": []
  }
 ],
 "metadata": {
  "kernelspec": {
   "display_name": "Python 3 (ipykernel)",
   "language": "python",
   "name": "python3"
  },
  "language_info": {
   "codemirror_mode": {
    "name": "ipython",
    "version": 3
   },
   "file_extension": ".py",
   "mimetype": "text/x-python",
   "name": "python",
   "nbconvert_exporter": "python",
   "pygments_lexer": "ipython3",
   "version": "3.12.4"
  }
 },
 "nbformat": 4,
 "nbformat_minor": 5
}
