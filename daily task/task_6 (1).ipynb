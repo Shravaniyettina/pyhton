{
  "nbformat": 4,
  "nbformat_minor": 0,
  "metadata": {
    "colab": {
      "provenance": []
    },
    "kernelspec": {
      "name": "python3",
      "display_name": "Python 3"
    },
    "language_info": {
      "name": "python"
    }
  },
  "cells": [
    {
      "cell_type": "markdown",
      "source": [
        "**1** **What is a set in Python? How is it different from other data structures like lists or tuples? Explain with examples.**\n"
      ],
      "metadata": {
        "id": "OoJAN3czC3uM"
      }
    },
    {
      "cell_type": "markdown",
      "source": [
        "sets  are used to store the multiple elements.\n",
        "it is stored in form of \"{}\"\n",
        "\n",
        "\n",
        "**difference**\n",
        "\n",
        " *sets and tuples  are immutable but list are mutable\n",
        " * sets  and tuples does not allow duplicates but list allow duplicates\n",
        " * set,list,tuple allow different data types\n",
        " *sets are unordered but list and tuples are ordered"
      ],
      "metadata": {
        "id": "UOfHaGb6eL9W"
      }
    },
    {
      "cell_type": "code",
      "source": [
        "##example....it does not allow duplicates\n",
        "a={1,2,3,3,}\n",
        "print(a)\n",
        "#.....different data types\n",
        "b={1,2,\"kkkk\",7.0,True}\n",
        "print(b)\n",
        "c={1,2,3,6}\n"
      ],
      "metadata": {
        "colab": {
          "base_uri": "https://localhost:8080/"
        },
        "id": "r5uHf8XXhiVX",
        "outputId": "e4f4f7bf-f1f4-47f4-fbf3-da80ec51c63a"
      },
      "execution_count": null,
      "outputs": [
        {
          "output_type": "stream",
          "name": "stdout",
          "text": [
            "{1, 2, 3}\n",
            "{1, 2, 7.0, 'kkkk'}\n"
          ]
        },
        {
          "output_type": "execute_result",
          "data": {
            "text/plain": [
              "2"
            ]
          },
          "metadata": {},
          "execution_count": 113
        }
      ]
    },
    {
      "cell_type": "code",
      "source": [
        "###...>>>sets are unordered\n",
        "a={1,2,5,8}\n",
        "a[1]"
      ],
      "metadata": {
        "colab": {
          "base_uri": "https://localhost:8080/",
          "height": 176
        },
        "id": "4o8NThvRjO0b",
        "outputId": "5446246b-bfc9-48aa-972c-c0d1669e5d11"
      },
      "execution_count": null,
      "outputs": [
        {
          "output_type": "error",
          "ename": "TypeError",
          "evalue": "'set' object is not subscriptable",
          "traceback": [
            "\u001b[0;31m---------------------------------------------------------------------------\u001b[0m",
            "\u001b[0;31mTypeError\u001b[0m                                 Traceback (most recent call last)",
            "\u001b[0;32m<ipython-input-115-fa297aaec3f8>\u001b[0m in \u001b[0;36m<cell line: 3>\u001b[0;34m()\u001b[0m\n\u001b[1;32m      1\u001b[0m \u001b[0;31m###...>>>sets are unordered\u001b[0m\u001b[0;34m\u001b[0m\u001b[0;34m\u001b[0m\u001b[0m\n\u001b[1;32m      2\u001b[0m \u001b[0ma\u001b[0m\u001b[0;34m=\u001b[0m\u001b[0;34m{\u001b[0m\u001b[0;36m1\u001b[0m\u001b[0;34m,\u001b[0m\u001b[0;36m2\u001b[0m\u001b[0;34m,\u001b[0m\u001b[0;36m5\u001b[0m\u001b[0;34m,\u001b[0m\u001b[0;36m8\u001b[0m\u001b[0;34m}\u001b[0m\u001b[0;34m\u001b[0m\u001b[0;34m\u001b[0m\u001b[0m\n\u001b[0;32m----> 3\u001b[0;31m \u001b[0ma\u001b[0m\u001b[0;34m[\u001b[0m\u001b[0;36m1\u001b[0m\u001b[0;34m]\u001b[0m\u001b[0;34m\u001b[0m\u001b[0;34m\u001b[0m\u001b[0m\n\u001b[0m",
            "\u001b[0;31mTypeError\u001b[0m: 'set' object is not subscriptable"
          ]
        }
      ]
    },
    {
      "cell_type": "code",
      "source": [
        "##sets are immutable\n",
        "a={1,2,4}\n",
        "a[1]=5\n",
        "print(a)"
      ],
      "metadata": {
        "colab": {
          "base_uri": "https://localhost:8080/",
          "height": 193
        },
        "id": "YMB6s5D9kHRS",
        "outputId": "ac8d6139-06e5-4d6c-b205-e313032c4238"
      },
      "execution_count": null,
      "outputs": [
        {
          "output_type": "error",
          "ename": "TypeError",
          "evalue": "'set' object does not support item assignment",
          "traceback": [
            "\u001b[0;31m---------------------------------------------------------------------------\u001b[0m",
            "\u001b[0;31mTypeError\u001b[0m                                 Traceback (most recent call last)",
            "\u001b[0;32m<ipython-input-116-46a6f60dad6f>\u001b[0m in \u001b[0;36m<cell line: 3>\u001b[0;34m()\u001b[0m\n\u001b[1;32m      1\u001b[0m \u001b[0;31m##sets are immutable\u001b[0m\u001b[0;34m\u001b[0m\u001b[0;34m\u001b[0m\u001b[0m\n\u001b[1;32m      2\u001b[0m \u001b[0ma\u001b[0m\u001b[0;34m=\u001b[0m\u001b[0;34m{\u001b[0m\u001b[0;36m1\u001b[0m\u001b[0;34m,\u001b[0m\u001b[0;36m2\u001b[0m\u001b[0;34m,\u001b[0m\u001b[0;36m4\u001b[0m\u001b[0;34m}\u001b[0m\u001b[0;34m\u001b[0m\u001b[0;34m\u001b[0m\u001b[0m\n\u001b[0;32m----> 3\u001b[0;31m \u001b[0ma\u001b[0m\u001b[0;34m[\u001b[0m\u001b[0;36m1\u001b[0m\u001b[0;34m]\u001b[0m\u001b[0;34m=\u001b[0m\u001b[0;36m5\u001b[0m\u001b[0;34m\u001b[0m\u001b[0;34m\u001b[0m\u001b[0m\n\u001b[0m\u001b[1;32m      4\u001b[0m \u001b[0mprint\u001b[0m\u001b[0;34m(\u001b[0m\u001b[0ma\u001b[0m\u001b[0;34m)\u001b[0m\u001b[0;34m\u001b[0m\u001b[0;34m\u001b[0m\u001b[0m\n",
            "\u001b[0;31mTypeError\u001b[0m: 'set' object does not support item assignment"
          ]
        }
      ]
    },
    {
      "cell_type": "markdown",
      "source": [
        "**2Q** **What is the difference between set.pop() and list.pop()? Explain with examples.**\n"
      ],
      "metadata": {
        "id": "t_Mvnsx9Eqot"
      }
    },
    {
      "cell_type": "markdown",
      "source": [
        "**set.pop()**\n",
        "  *set.pop() removes the element from the set.\n",
        "\n",
        "**list.pop()**\n",
        "   *list.pop() removes the last element from the list."
      ],
      "metadata": {
        "id": "ycZIJwA7Hd4s"
      }
    },
    {
      "cell_type": "code",
      "source": [
        "##set.pop{}\n",
        "a={1,2,5,7,8}##removes the any element from the set\n",
        "a.pop()"
      ],
      "metadata": {
        "colab": {
          "base_uri": "https://localhost:8080/"
        },
        "id": "SfJOkuejE1xF",
        "outputId": "265751eb-7f43-49ad-828e-05f6f353db4b"
      },
      "execution_count": null,
      "outputs": [
        {
          "output_type": "execute_result",
          "data": {
            "text/plain": [
              "1"
            ]
          },
          "metadata": {},
          "execution_count": 84
        }
      ]
    },
    {
      "cell_type": "code",
      "source": [
        "#list.pop()\n",
        "a=[1,2,5,7,8]###removes the last element from the list\n",
        "a.pop()"
      ],
      "metadata": {
        "colab": {
          "base_uri": "https://localhost:8080/"
        },
        "id": "GTaW2ZIZGCeX",
        "outputId": "4d315b44-faca-4e92-8e71-fa61c431337d"
      },
      "execution_count": null,
      "outputs": [
        {
          "output_type": "execute_result",
          "data": {
            "text/plain": [
              "8"
            ]
          },
          "metadata": {},
          "execution_count": 85
        }
      ]
    },
    {
      "cell_type": "markdown",
      "source": [
        "**3**Given the set S = {1, 2, 3, 4, 5, 76, 32, 65}, apply all built-in set functions to this example.**\n"
      ],
      "metadata": {
        "id": "ta9Kyrs4Gu6w"
      }
    },
    {
      "cell_type": "code",
      "source": [
        "#add(_)\n",
        "s={1,2,3,4,5,76,32,65}\n",
        "s.add(20)\n",
        "print(s)"
      ],
      "metadata": {
        "colab": {
          "base_uri": "https://localhost:8080/"
        },
        "id": "TpYdjFa3IR1O",
        "outputId": "a1942fbc-21f8-4992-ed17-9d4e74b29c1b"
      },
      "execution_count": null,
      "outputs": [
        {
          "output_type": "stream",
          "name": "stdout",
          "text": [
            "{32, 1, 2, 3, 4, 5, 65, 76, 20}\n"
          ]
        }
      ]
    },
    {
      "cell_type": "code",
      "source": [
        "#copy()\n",
        "s.copy()\n",
        "print(s)"
      ],
      "metadata": {
        "colab": {
          "base_uri": "https://localhost:8080/"
        },
        "id": "LyygKfnlIkqy",
        "outputId": "2e7aa7d8-2c97-4262-c5d8-0b6d4aa2beb9"
      },
      "execution_count": null,
      "outputs": [
        {
          "output_type": "stream",
          "name": "stdout",
          "text": [
            "{32, 1, 2, 3, 4, 5, 65, 76, 20}\n"
          ]
        }
      ]
    },
    {
      "cell_type": "code",
      "source": [
        "#clear()\n",
        "s={1,2,3,4,5,76,32,65}\n",
        "s.clear()\n",
        "print(s)"
      ],
      "metadata": {
        "colab": {
          "base_uri": "https://localhost:8080/"
        },
        "id": "nes3W4KLI8Cg",
        "outputId": "c521b2a1-8d11-4955-dc36-24910d575cc2"
      },
      "execution_count": null,
      "outputs": [
        {
          "output_type": "stream",
          "name": "stdout",
          "text": [
            "set()\n"
          ]
        }
      ]
    },
    {
      "cell_type": "code",
      "source": [
        "#discard()\n",
        "s={1,2,3,4,5,76,32,65}\n",
        "s.discard(5)\n",
        "print(s)"
      ],
      "metadata": {
        "colab": {
          "base_uri": "https://localhost:8080/"
        },
        "id": "DsjRZcNYOtdX",
        "outputId": "6140462b-0c45-4882-c70a-bb71144e69bc"
      },
      "execution_count": null,
      "outputs": [
        {
          "output_type": "stream",
          "name": "stdout",
          "text": [
            "{32, 1, 2, 3, 4, 65, 76}\n"
          ]
        }
      ]
    },
    {
      "cell_type": "code",
      "source": [
        "#pop()\n",
        "s={1,2,3,4,5,76,32,65}\n",
        "s.pop()"
      ],
      "metadata": {
        "colab": {
          "base_uri": "https://localhost:8080/"
        },
        "id": "haXN1JuqNRIR",
        "outputId": "94412bec-ce52-4225-9c3e-70fb82632d37"
      },
      "execution_count": null,
      "outputs": [
        {
          "output_type": "execute_result",
          "data": {
            "text/plain": [
              "32"
            ]
          },
          "metadata": {},
          "execution_count": 90
        }
      ]
    },
    {
      "cell_type": "code",
      "source": [
        "#remove()\n",
        "s={1,2,3,4,5,76,32,65}\n",
        "s.remove(4)\n",
        "print(s)"
      ],
      "metadata": {
        "colab": {
          "base_uri": "https://localhost:8080/"
        },
        "id": "-J47lGFeQG-8",
        "outputId": "b9cd0c1a-c5c9-44fe-aecf-2d630378319d"
      },
      "execution_count": null,
      "outputs": [
        {
          "output_type": "stream",
          "name": "stdout",
          "text": [
            "{32, 1, 2, 3, 5, 65, 76}\n"
          ]
        }
      ]
    },
    {
      "cell_type": "markdown",
      "source": [],
      "metadata": {
        "id": "reuAyt3XQwBW"
      }
    },
    {
      "cell_type": "code",
      "source": [
        "#delete()\n",
        "s={1,2,3,4,5,76,32,65}\n",
        "del (s)\n"
      ],
      "metadata": {
        "id": "IBLI7TCVQwwI"
      },
      "execution_count": null,
      "outputs": []
    },
    {
      "cell_type": "markdown",
      "source": [],
      "metadata": {
        "id": "1qjDo8VSQxJs"
      }
    },
    {
      "cell_type": "code",
      "source": [
        "#difference>>>A-B   and  B-A\n",
        "a={1,23,56,89,67,5}\n",
        "b={3,6,7,8,9,90,5}\n",
        "#A-B or difference\n",
        "#B-A OR DIFFERENCE\n",
        "a.difference(b)"
      ],
      "metadata": {
        "colab": {
          "base_uri": "https://localhost:8080/"
        },
        "id": "u7JRwHZHKHPG",
        "outputId": "7da66e04-7f3c-4a1f-c19d-f1f7ddab2022"
      },
      "execution_count": null,
      "outputs": [
        {
          "output_type": "execute_result",
          "data": {
            "text/plain": [
              "{1, 23, 56, 67, 89}"
            ]
          },
          "metadata": {},
          "execution_count": 93
        }
      ]
    },
    {
      "cell_type": "code",
      "source": [
        "#difference_update\n",
        "a={1,23,56,89,67,5}\n",
        "b={3,6,7,8,9,90,5}\n",
        "a.difference_update(b)\n",
        "print(a)\n"
      ],
      "metadata": {
        "colab": {
          "base_uri": "https://localhost:8080/"
        },
        "id": "bNB7YbuJLaOA",
        "outputId": "a381f051-ad8f-4487-bfaa-40bd5168129a"
      },
      "execution_count": null,
      "outputs": [
        {
          "output_type": "stream",
          "name": "stdout",
          "text": [
            "{1, 67, 23, 56, 89}\n"
          ]
        }
      ]
    },
    {
      "cell_type": "code",
      "source": [
        "##intersection\n",
        "set1={2,4,6}\n",
        "set2={2,5,6,7}\n",
        "print(set1.intersection(set2))##common values returns,, but dont update\n",
        "print(set2.intersection(set1))"
      ],
      "metadata": {
        "colab": {
          "base_uri": "https://localhost:8080/"
        },
        "id": "kaCMQcydLnew",
        "outputId": "f49b44ee-6df1-4b90-dccf-18f3fdad3766"
      },
      "execution_count": null,
      "outputs": [
        {
          "output_type": "stream",
          "name": "stdout",
          "text": [
            "{2, 6}\n",
            "{2, 6}\n"
          ]
        }
      ]
    },
    {
      "cell_type": "code",
      "source": [
        "#intersection_update()\n",
        "set1={2,4,6,8,9}\n",
        "set2={2,5,6,7}\n",
        "print(set1.intersection_update(set2))##common values returns,update\n",
        "print(set2.intersection_update(set1))\n",
        "print(set1)##update the values if we print the set1\n",
        "print(set2)"
      ],
      "metadata": {
        "colab": {
          "base_uri": "https://localhost:8080/"
        },
        "id": "VVVhiIgWL69x",
        "outputId": "a2f3096c-eeb0-412d-ca92-be34aa75be70"
      },
      "execution_count": null,
      "outputs": [
        {
          "output_type": "stream",
          "name": "stdout",
          "text": [
            "None\n",
            "None\n",
            "{2, 6}\n",
            "{2, 6}\n"
          ]
        }
      ]
    },
    {
      "cell_type": "code",
      "source": [
        "#isdisjoint()\n",
        "a={1,3,5,7,8}\n",
        "b={4,6,7,8}\n",
        "a.isdisjoint(b)"
      ],
      "metadata": {
        "colab": {
          "base_uri": "https://localhost:8080/"
        },
        "id": "qFaEjwS4MBmo",
        "outputId": "d29e40a6-4d04-4353-c8e0-529b88edbb57"
      },
      "execution_count": null,
      "outputs": [
        {
          "output_type": "execute_result",
          "data": {
            "text/plain": [
              "False"
            ]
          },
          "metadata": {},
          "execution_count": 97
        }
      ]
    },
    {
      "cell_type": "code",
      "source": [
        "##subset()\n",
        "a={1,2,3,4,5,6,7}\n",
        "b={1,2,3,3,4,5}\n",
        "b.issubset(a)\n"
      ],
      "metadata": {
        "colab": {
          "base_uri": "https://localhost:8080/"
        },
        "id": "EtOlBsD5Mdje",
        "outputId": "a4a5a0a4-9a41-409e-fa63-9f3cf45a5679"
      },
      "execution_count": null,
      "outputs": [
        {
          "output_type": "execute_result",
          "data": {
            "text/plain": [
              "True"
            ]
          },
          "metadata": {},
          "execution_count": 98
        }
      ]
    },
    {
      "cell_type": "markdown",
      "source": [
        "**4** **Update the first set with items that don't exist in the second set.\n",
        "s1={150,200,400}\n",
        "s2={200,750,650}\n",
        "Expected output: s1={150,400}**\n"
      ],
      "metadata": {
        "id": "kPipArcPREQC"
      }
    },
    {
      "cell_type": "code",
      "source": [
        "s1={150,200,400}\n",
        "s2={200,750,650}\n",
        "s1.difference_update(s2)\n",
        "print(s1)\n"
      ],
      "metadata": {
        "colab": {
          "base_uri": "https://localhost:8080/"
        },
        "id": "_RLySWs6RHPt",
        "outputId": "ab4adb44-5f35-4f7e-ac39-0bdbffcaa9dc"
      },
      "execution_count": null,
      "outputs": [
        {
          "output_type": "stream",
          "name": "stdout",
          "text": [
            "{400, 150}\n"
          ]
        }
      ]
    },
    {
      "cell_type": "markdown",
      "source": [
        "**5** Define a set S = {apple, banana, cherry, orange}. Use Python set methods to add a new fruit 'grape' to S, remove 'banana' from S, and check the length of S.\n"
      ],
      "metadata": {
        "id": "i8xL_l1oSWjE"
      }
    },
    {
      "cell_type": "code",
      "source": [
        "S = {\"apple\",\"banana\", \"cherry\", \"orange\"}\n",
        "S.add('grape')\n",
        "print(S)"
      ],
      "metadata": {
        "colab": {
          "base_uri": "https://localhost:8080/"
        },
        "id": "MKJAB-p0TuUo",
        "outputId": "fcefe7f7-99bc-4d33-b0dc-5da4b822a0cb"
      },
      "execution_count": null,
      "outputs": [
        {
          "output_type": "stream",
          "name": "stdout",
          "text": [
            "{'orange', 'cherry', 'grape', 'apple', 'banana'}\n"
          ]
        }
      ]
    },
    {
      "cell_type": "code",
      "source": [
        "S.discard(\"banana\")\n",
        "print(S)\n",
        "print(len(S))"
      ],
      "metadata": {
        "colab": {
          "base_uri": "https://localhost:8080/"
        },
        "id": "IyjXhb8LWdx1",
        "outputId": "3177c740-ce53-4fe1-e333-a44ba8051fb5"
      },
      "execution_count": null,
      "outputs": [
        {
          "output_type": "stream",
          "name": "stdout",
          "text": [
            "{'orange', 'cherry', 'grape', 'apple'}\n",
            "4\n"
          ]
        }
      ]
    },
    {
      "cell_type": "markdown",
      "source": [
        "**6**dict = {“name1_marks” : [34,56,87,89], “name2_marks” : [78,98,54,34],  “name3_marks” : [87,65,97,90]}   add the marks   97  in  “name1_marks”.\n",
        "Expected output : {“name1_marks” : [34,56,87,89, 97], “name2_marks” : [78,98,54,34],  “name3_marks” : [87,65,97,90]}**\n",
        "\n"
      ],
      "metadata": {
        "id": "9Ucl4SpBXOkf"
      }
    },
    {
      "cell_type": "code",
      "source": [
        "dict = {\"name1_marks\" : [34,56,87,89], \"name2_marks\" : [78,98,54,34], \"name3_marks\" : [87,65,97,90]}\n",
        "dict[\"name1_marks\"]"
      ],
      "metadata": {
        "colab": {
          "base_uri": "https://localhost:8080/"
        },
        "id": "HbufTZ2HXVyN",
        "outputId": "f0c0d212-e2c5-40c5-9f50-e1f3425394c2"
      },
      "execution_count": null,
      "outputs": [
        {
          "output_type": "execute_result",
          "data": {
            "text/plain": [
              "[34, 56, 87, 89]"
            ]
          },
          "metadata": {},
          "execution_count": 103
        }
      ]
    },
    {
      "cell_type": "code",
      "source": [
        "dict1=dict[\"name1_marks\"]"
      ],
      "metadata": {
        "id": "nfi428zdZmSE"
      },
      "execution_count": null,
      "outputs": []
    },
    {
      "cell_type": "code",
      "source": [
        "res=dict1.append(97)\n",
        "print(dict)\n",
        "\n"
      ],
      "metadata": {
        "colab": {
          "base_uri": "https://localhost:8080/"
        },
        "id": "gkfgtCztaIa5",
        "outputId": "a1a954c1-cc5c-43dc-d0ce-2f2e331d07f5"
      },
      "execution_count": null,
      "outputs": [
        {
          "output_type": "stream",
          "name": "stdout",
          "text": [
            "{'name1_marks': [34, 56, 87, 89, 97], 'name2_marks': [78, 98, 54, 34], 'name3_marks': [87, 65, 97, 90]}\n"
          ]
        }
      ]
    },
    {
      "cell_type": "code",
      "source": [
        "s = [1,2,3,43,6]"
      ],
      "metadata": {
        "id": "yrecusv-jQCg"
      },
      "execution_count": null,
      "outputs": []
    },
    {
      "cell_type": "code",
      "source": [
        "s"
      ],
      "metadata": {
        "colab": {
          "base_uri": "https://localhost:8080/"
        },
        "id": "ZwIL2VRnjSSl",
        "outputId": "0b1a7b50-b49a-4671-c7e6-52c8030831f1"
      },
      "execution_count": null,
      "outputs": [
        {
          "output_type": "execute_result",
          "data": {
            "text/plain": [
              "{1, 2, 3, 6, 43}"
            ]
          },
          "metadata": {},
          "execution_count": 6
        }
      ]
    },
    {
      "cell_type": "code",
      "source": [
        "s={True,2,3,\"a\",0,1,False,4}"
      ],
      "metadata": {
        "id": "MNPBaAnIjXHo"
      },
      "execution_count": null,
      "outputs": []
    },
    {
      "cell_type": "code",
      "source": [
        "s.pop()"
      ],
      "metadata": {
        "colab": {
          "base_uri": "https://localhost:8080/"
        },
        "id": "mh-jy7Svj0jV",
        "outputId": "f2799480-f4f2-4453-f92d-c602365dddd2"
      },
      "execution_count": null,
      "outputs": [
        {
          "output_type": "execute_result",
          "data": {
            "text/plain": [
              "6"
            ]
          },
          "metadata": {},
          "execution_count": 14
        }
      ]
    },
    {
      "cell_type": "code",
      "source": [
        "list=[1,2,3,4,5]\n",
        "for i in list:\n",
        "  list.remove(i)\n",
        "  print(list)"
      ],
      "metadata": {
        "colab": {
          "base_uri": "https://localhost:8080/"
        },
        "id": "NBGHRJ_vj1m_",
        "outputId": "95e6dcab-e3e9-4f89-d9f4-8c155ff99d4a"
      },
      "execution_count": null,
      "outputs": [
        {
          "output_type": "stream",
          "name": "stdout",
          "text": [
            "[2, 3, 4, 5]\n",
            "[2, 4, 5]\n",
            "[2, 4]\n"
          ]
        }
      ]
    },
    {
      "cell_type": "code",
      "source": [
        "a={1,2,3,5,6}\n",
        "\n",
        "a.pop(2)"
      ],
      "metadata": {
        "colab": {
          "base_uri": "https://localhost:8080/",
          "height": 176
        },
        "id": "VKgVqZULoAXp",
        "outputId": "5e721bef-6292-4755-9788-b45eafdac44b"
      },
      "execution_count": null,
      "outputs": [
        {
          "output_type": "error",
          "ename": "TypeError",
          "evalue": "set.pop() takes no arguments (1 given)",
          "traceback": [
            "\u001b[0;31m---------------------------------------------------------------------------\u001b[0m",
            "\u001b[0;31mTypeError\u001b[0m                                 Traceback (most recent call last)",
            "\u001b[0;32m<ipython-input-29-c670b8e5267e>\u001b[0m in \u001b[0;36m<cell line: 3>\u001b[0;34m()\u001b[0m\n\u001b[1;32m      1\u001b[0m \u001b[0ma\u001b[0m\u001b[0;34m=\u001b[0m\u001b[0;34m{\u001b[0m\u001b[0;36m1\u001b[0m\u001b[0;34m,\u001b[0m\u001b[0;36m2\u001b[0m\u001b[0;34m,\u001b[0m\u001b[0;36m3\u001b[0m\u001b[0;34m,\u001b[0m\u001b[0;36m5\u001b[0m\u001b[0;34m,\u001b[0m\u001b[0;36m6\u001b[0m\u001b[0;34m}\u001b[0m\u001b[0;34m\u001b[0m\u001b[0;34m\u001b[0m\u001b[0m\n\u001b[1;32m      2\u001b[0m \u001b[0;34m\u001b[0m\u001b[0m\n\u001b[0;32m----> 3\u001b[0;31m \u001b[0ma\u001b[0m\u001b[0;34m.\u001b[0m\u001b[0mpop\u001b[0m\u001b[0;34m(\u001b[0m\u001b[0;36m2\u001b[0m\u001b[0;34m)\u001b[0m\u001b[0;34m\u001b[0m\u001b[0;34m\u001b[0m\u001b[0m\n\u001b[0m",
            "\u001b[0;31mTypeError\u001b[0m: set.pop() takes no arguments (1 given)"
          ]
        }
      ]
    },
    {
      "cell_type": "code",
      "source": [],
      "metadata": {
        "id": "8LDIyiqDpIy1"
      },
      "execution_count": null,
      "outputs": []
    }
  ]
}