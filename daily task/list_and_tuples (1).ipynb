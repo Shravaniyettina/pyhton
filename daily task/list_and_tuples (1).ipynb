{
  "nbformat": 4,
  "nbformat_minor": 0,
  "metadata": {
    "colab": {
      "provenance": []
    },
    "kernelspec": {
      "name": "python3",
      "display_name": "Python 3"
    },
    "language_info": {
      "name": "python"
    }
  },
  "cells": [
    {
      "cell_type": "markdown",
      "source": [
        "**1Q**\n",
        "**Explain the properties of list and tuple in the markdown cell.**"
      ],
      "metadata": {
        "id": "Lyp44XIi-y1-"
      }
    },
    {
      "cell_type": "markdown",
      "source": [
        "**LIST**-\n",
        "*\"it is enclosed by \"[]\"\".\n",
        "* it can accept different data types.\n",
        "* it is mutable property.\n",
        "*it can access by index-ordered data.\n",
        "* allow duplicate.\n",
        "\n",
        "\n",
        "  **TUPLE-**\n",
        "\"it is enclosed by\"()\".\n",
        "* it can also different data types.\n",
        "*it is immutable property.\n",
        "*it allow duplicates.\n",
        "*it can access by indexing-ordered data."
      ],
      "metadata": {
        "id": "qqrZ8AwPCpvN"
      }
    },
    {
      "cell_type": "markdown",
      "source": [
        "**2Q**\n",
        "**Create a list containing the numbers 1 to 5.**\n",
        "\n"
      ],
      "metadata": {
        "id": "QymculUgCgC8"
      }
    },
    {
      "cell_type": "code",
      "source": [
        "list=[1,2,3,4,5]\n"
      ],
      "metadata": {
        "id": "blnD7C0YEGLb"
      },
      "execution_count": null,
      "outputs": []
    },
    {
      "cell_type": "markdown",
      "source": [
        "**3Q** **Access the third element of the list [10, 20, 30, 40, 50]**\n"
      ],
      "metadata": {
        "id": "igcpjYSZCgfF"
      }
    },
    {
      "cell_type": "code",
      "source": [
        "list=[10,20,30,40,50]\n",
        "print( \"third element is\",list[2])"
      ],
      "metadata": {
        "colab": {
          "base_uri": "https://localhost:8080/"
        },
        "id": "GOAnZi7QE3_U",
        "outputId": "e9af7a0a-889f-4e7f-bda9-4727e41a1909"
      },
      "execution_count": null,
      "outputs": [
        {
          "output_type": "stream",
          "name": "stdout",
          "text": [
            "third element is 30\n"
          ]
        }
      ]
    },
    {
      "cell_type": "markdown",
      "source": [
        "**4Q** **Change the second element of the list [1, 2, 3, 4, 5] to 10.**\n"
      ],
      "metadata": {
        "id": "dvZmu0xoAsvv"
      }
    },
    {
      "cell_type": "code",
      "source": [
        "list=[1,2,3,4,5]\n",
        "list[1]=10\n",
        "print(list[1])"
      ],
      "metadata": {
        "colab": {
          "base_uri": "https://localhost:8080/"
        },
        "id": "xkmTvdtoGo_M",
        "outputId": "14bff125-927a-4eed-996d-2772b1481b35"
      },
      "execution_count": null,
      "outputs": [
        {
          "output_type": "stream",
          "name": "stdout",
          "text": [
            "10\n"
          ]
        }
      ]
    },
    {
      "cell_type": "markdown",
      "source": [
        "  **5q**  **Add the element 6 to the end of the list [1, 2, 3, 4, 5].**\n"
      ],
      "metadata": {
        "id": "0d0TBW61HiHW"
      }
    },
    {
      "cell_type": "code",
      "source": [
        "a=[1,2,3,4,5]\n",
        "a.append(6)\n",
        "print(a)\n",
        "\n",
        "\n"
      ],
      "metadata": {
        "colab": {
          "base_uri": "https://localhost:8080/"
        },
        "id": "yXRjGMNIPPKz",
        "outputId": "f1014deb-d166-44fe-ce2c-476351ed9104"
      },
      "execution_count": null,
      "outputs": [
        {
          "output_type": "stream",
          "name": "stdout",
          "text": [
            "[1, 2, 3, 4, 5, 6]\n"
          ]
        }
      ]
    },
    {
      "cell_type": "markdown",
      "source": [
        "**6**  **Concatenate the lists [1, 2, 3] and [4, 5, 6].**\n"
      ],
      "metadata": {
        "id": "ZXqOH--qQf_Y"
      }
    },
    {
      "cell_type": "code",
      "source": [
        "a=[1,2,3]\n",
        "b=[4,5,6]\n",
        "print(a + b)"
      ],
      "metadata": {
        "colab": {
          "base_uri": "https://localhost:8080/"
        },
        "id": "mfMGFoT2Qmad",
        "outputId": "2456821f-61fa-4a86-d75c-964ca05a54ba"
      },
      "execution_count": null,
      "outputs": [
        {
          "output_type": "stream",
          "name": "stdout",
          "text": [
            "[1, 2, 3, 4, 5, 6]\n"
          ]
        }
      ]
    },
    {
      "cell_type": "markdown",
      "source": [
        "**7**  **Create a tuple containing the strings \"apple\", \"banana\", and \"cherry\".**\n"
      ],
      "metadata": {
        "id": "PPrEhkbmRSH7"
      }
    },
    {
      "cell_type": "code",
      "source": [
        "tuple=(\"apple\",\"banana\",\"cherry\")\n"
      ],
      "metadata": {
        "id": "CUyvsJ6lRe_M"
      },
      "execution_count": null,
      "outputs": []
    },
    {
      "cell_type": "markdown",
      "source": [
        "**8** **Access the first element of the tuple (\"apple\", \"banana\", \"cherry\").**\n"
      ],
      "metadata": {
        "id": "L6qYGV_PR07H"
      }
    },
    {
      "cell_type": "code",
      "source": [
        "tuple=(\"apple\",\"banana\",\"cherry\")\n",
        "print(tuple[0])\n"
      ],
      "metadata": {
        "colab": {
          "base_uri": "https://localhost:8080/"
        },
        "id": "0t1mSReTR-5S",
        "outputId": "936ee621-b44b-4077-96fe-ec883de8e5b7"
      },
      "execution_count": null,
      "outputs": [
        {
          "output_type": "stream",
          "name": "stdout",
          "text": [
            "apple\n"
          ]
        }
      ]
    },
    {
      "cell_type": "markdown",
      "source": [
        "**9** **Check if the number 4 is in the list [1, 2, 3, 4, 5].**\n"
      ],
      "metadata": {
        "id": "D9r1sRA-SfsK"
      }
    },
    {
      "cell_type": "code",
      "source": [
        "a=[1,2,3,4,5]\n",
        "a.index(4)"
      ],
      "metadata": {
        "colab": {
          "base_uri": "https://localhost:8080/"
        },
        "id": "gpV1kq22SpR8",
        "outputId": "91f33ec2-d0f4-4d97-99f8-80406dc3ba8c"
      },
      "execution_count": null,
      "outputs": [
        {
          "output_type": "execute_result",
          "data": {
            "text/plain": [
              "3"
            ]
          },
          "metadata": {},
          "execution_count": 38
        }
      ]
    },
    {
      "cell_type": "markdown",
      "source": [
        "**10**  **Find the length of the list [10, 20, 30, 40, 50].**\n"
      ],
      "metadata": {
        "id": "58MZtkuTTd0T"
      }
    },
    {
      "cell_type": "code",
      "source": [
        "list=[10,20,30,40,50]\n",
        "print(len(list))"
      ],
      "metadata": {
        "colab": {
          "base_uri": "https://localhost:8080/"
        },
        "id": "2v_VIGIUTnEU",
        "outputId": "cffb0e25-471e-443b-e014-8d58f87bb742"
      },
      "execution_count": null,
      "outputs": [
        {
          "output_type": "stream",
          "name": "stdout",
          "text": [
            "5\n"
          ]
        }
      ]
    },
    {
      "cell_type": "markdown",
      "source": [
        "**11**  **Slice the list [10, 20, 30, 40, 50] to get the sublist [20, 30, 40].**\n"
      ],
      "metadata": {
        "id": "2yiyPUR5T3wE"
      }
    },
    {
      "cell_type": "code",
      "source": [
        "list=[10,20,30,40,50]\n",
        "print(list[1:4])"
      ],
      "metadata": {
        "colab": {
          "base_uri": "https://localhost:8080/"
        },
        "id": "HP4OdCbpUAAf",
        "outputId": "92f057c6-52a4-4879-f8d5-b43fba90952b"
      },
      "execution_count": null,
      "outputs": [
        {
          "output_type": "stream",
          "name": "stdout",
          "text": [
            "[20, 30, 40]\n"
          ]
        }
      ]
    },
    {
      "cell_type": "markdown",
      "source": [
        " **12**  **Unpack the tuple (10, 20, 30) into three variables.**"
      ],
      "metadata": {
        "id": "1YsVcRp3UU-_"
      }
    },
    {
      "cell_type": "code",
      "source": [
        "tuple=(10,20,30)\n",
        "print(tuple[0])\n",
        "print(tuple[1])\n",
        "print(tuple[2])\n"
      ],
      "metadata": {
        "colab": {
          "base_uri": "https://localhost:8080/"
        },
        "id": "FqOvQJuTUpFp",
        "outputId": "6c33f414-13d1-45e9-e090-4e76e3a9d77b"
      },
      "execution_count": null,
      "outputs": [
        {
          "output_type": "stream",
          "name": "stdout",
          "text": [
            "10\n",
            "20\n",
            "30\n"
          ]
        }
      ]
    },
    {
      "cell_type": "markdown",
      "source": [
        "**13**  **Count the number of times the element 2 appears in the list [1, 2, 2, 3, 4, 2, 5].**\n"
      ],
      "metadata": {
        "id": "AFWS9kmBVxpO"
      }
    },
    {
      "cell_type": "code",
      "source": [
        "my_list=[1,2,2,3,4,2,5]\n",
        "print(my_list.count(2))"
      ],
      "metadata": {
        "colab": {
          "base_uri": "https://localhost:8080/"
        },
        "id": "XIDQdM7pV6Pe",
        "outputId": "cff0e3be-86d5-467b-9514-4e27c68cf4b8"
      },
      "execution_count": null,
      "outputs": [
        {
          "output_type": "stream",
          "name": "stdout",
          "text": [
            "3\n"
          ]
        }
      ]
    },
    {
      "cell_type": "markdown",
      "source": [
        "**14**  **Find the maximum element in the list [1, 2, 3, 4, 5].**\n"
      ],
      "metadata": {
        "id": "q9ddeJPnWUS1"
      }
    },
    {
      "cell_type": "code",
      "source": [
        "list=[1,2,3,4,5]\n",
        "max(list)\n"
      ],
      "metadata": {
        "colab": {
          "base_uri": "https://localhost:8080/"
        },
        "id": "4UPRbHR8WgME",
        "outputId": "8c0d012b-686b-4d1b-c594-caee083e3534"
      },
      "execution_count": null,
      "outputs": [
        {
          "output_type": "execute_result",
          "data": {
            "text/plain": [
              "5"
            ]
          },
          "metadata": {},
          "execution_count": 43
        }
      ]
    },
    {
      "cell_type": "markdown",
      "source": [
        "**15** **Convert the list [1, 2, 3, 4, 5] to a tuple.**\n"
      ],
      "metadata": {
        "id": "RyQKDE07W1E6"
      }
    },
    {
      "cell_type": "code",
      "source": [
        " my_list=[1,2,3,4,5]\n",
        " print(type(my_list))\n",
        " tuple1=list[0],list[1],list[2],list[3],list[4]\n",
        " print(tuple1)\n",
        " print(type(tuple1))\n",
        "\n"
      ],
      "metadata": {
        "colab": {
          "base_uri": "https://localhost:8080/"
        },
        "id": "LvWFknrOWt7-",
        "outputId": "13fe8f1a-c28a-47d0-e572-527047611d5b"
      },
      "execution_count": null,
      "outputs": [
        {
          "output_type": "stream",
          "name": "stdout",
          "text": [
            "<class 'list'>\n",
            "(1, 2, 3, 4, 5)\n",
            "<class 'tuple'>\n"
          ]
        }
      ]
    },
    {
      "cell_type": "code",
      "source": [],
      "metadata": {
        "id": "A1ZHx2LZXH7R"
      },
      "execution_count": null,
      "outputs": []
    },
    {
      "cell_type": "markdown",
      "source": [
        "**16** Extend the list [1, 2, 3] with elements from the list [4, 5, 6].\n"
      ],
      "metadata": {
        "id": "LLu_irM3lgLx"
      }
    },
    {
      "cell_type": "code",
      "source": [
        "list1=[1,2,3]\n",
        "list1.extend([4,5,6])\n",
        "print(list1)\n"
      ],
      "metadata": {
        "colab": {
          "base_uri": "https://localhost:8080/"
        },
        "id": "tNKNBTX5lqtI",
        "outputId": "c0d49887-1cab-4bec-dd7f-f65b6fd261dd"
      },
      "execution_count": null,
      "outputs": [
        {
          "output_type": "stream",
          "name": "stdout",
          "text": [
            "[1, 2, 3, 4, 5, 6]\n"
          ]
        }
      ]
    },
    {
      "cell_type": "markdown",
      "source": [
        "**17** **Reverse the list [1, 2, 3, 4, 5].**\n"
      ],
      "metadata": {
        "id": "KQIPivDPnLWz"
      }
    },
    {
      "cell_type": "code",
      "source": [
        "list1=[1,2,3,4,5]\n",
        "list1.reverse()\n",
        "print(list1)"
      ],
      "metadata": {
        "colab": {
          "base_uri": "https://localhost:8080/"
        },
        "id": "yRQWrY4InURO",
        "outputId": "4d597a38-3d78-401f-b5c7-efb251d1f124"
      },
      "execution_count": null,
      "outputs": [
        {
          "output_type": "stream",
          "name": "stdout",
          "text": [
            "[5, 4, 3, 2, 1]\n"
          ]
        }
      ]
    },
    {
      "cell_type": "code",
      "source": [],
      "metadata": {
        "id": "70G40bspneRE"
      },
      "execution_count": null,
      "outputs": []
    },
    {
      "cell_type": "markdown",
      "source": [
        "  **18** Access the element 3 in the nested list [[1, 2], [3, 4], [5, 6]].\n"
      ],
      "metadata": {
        "id": "0KcmduUfnkus"
      }
    },
    {
      "cell_type": "code",
      "source": [
        "list=[[1,2],[3,4],[5,6]]\n",
        "\n",
        "a=(list[1][0])\n",
        "print(a)\n"
      ],
      "metadata": {
        "colab": {
          "base_uri": "https://localhost:8080/"
        },
        "id": "9MLqwSChotsT",
        "outputId": "3c6091cf-0d38-40b1-e31f-be46814d2308"
      },
      "execution_count": null,
      "outputs": [
        {
          "output_type": "stream",
          "name": "stdout",
          "text": [
            "3\n"
          ]
        }
      ]
    },
    {
      "cell_type": "markdown",
      "source": [
        " **19** **Remove the element 4 from the list [1, 2, 3, 4, 5].**\n"
      ],
      "metadata": {
        "id": "hp_xFbHJq17X"
      }
    },
    {
      "cell_type": "code",
      "source": [
        "list=[1,2,3,4,5]\n",
        "list.remove(4)\n",
        "print(list)"
      ],
      "metadata": {
        "colab": {
          "base_uri": "https://localhost:8080/"
        },
        "id": "8a9RrP2yq9aN",
        "outputId": "41718513-5024-498b-f77a-993484541ab0"
      },
      "execution_count": null,
      "outputs": [
        {
          "output_type": "stream",
          "name": "stdout",
          "text": [
            "[1, 2, 3, 5]\n"
          ]
        }
      ]
    },
    {
      "cell_type": "code",
      "source": [],
      "metadata": {
        "id": "vvo2tKSMrRZt"
      },
      "execution_count": null,
      "outputs": []
    },
    {
      "cell_type": "markdown",
      "source": [
        "**20**  **Convert the tuple (1, 2, 3, 4, 5) to a list.**\n"
      ],
      "metadata": {
        "id": "MTv_SA4_raC0"
      }
    },
    {
      "cell_type": "code",
      "source": [
        "tuple=(1,2,3,4,5)\n",
        "print(tuple)\n",
        "my_list=[tuple[0],tuple[1],tuple[2],tuple[3],tuple[4]]\n",
        "\n",
        "print(my_list)\n",
        "print(type(my_list))\n"
      ],
      "metadata": {
        "colab": {
          "base_uri": "https://localhost:8080/"
        },
        "id": "bXqcBJmkrjIj",
        "outputId": "350516aa-a6e4-4fe0-ee15-1442b2865178"
      },
      "execution_count": null,
      "outputs": [
        {
          "output_type": "stream",
          "name": "stdout",
          "text": [
            "(1, 2, 3, 4, 5)\n",
            "[1, 2, 3, 4, 5]\n",
            "<class 'list'>\n"
          ]
        }
      ]
    },
    {
      "cell_type": "markdown",
      "source": [
        " **21** **Find the index of the element 3 in the list [1, 2, 3, 4, 5]."
      ],
      "metadata": {
        "id": "1l22EF0JvThr"
      }
    },
    {
      "cell_type": "code",
      "source": [
        "list=[1,2,3,4,5]\n",
        "print(list.index(3))"
      ],
      "metadata": {
        "colab": {
          "base_uri": "https://localhost:8080/"
        },
        "id": "ETZlO0SevsD2",
        "outputId": "67f81958-ae93-486b-fc69-de27cc85acf3"
      },
      "execution_count": null,
      "outputs": [
        {
          "output_type": "stream",
          "name": "stdout",
          "text": [
            "2\n"
          ]
        }
      ]
    },
    {
      "cell_type": "markdown",
      "source": [
        "**22**   **Explain why the following operation fails: t = (1, 2, 3); t[0] = 0.**\n"
      ],
      "metadata": {
        "id": "MAmjXzJgwklB"
      }
    },
    {
      "cell_type": "code",
      "source": [
        "t=(1,2,3)\n",
        "t[0]=0 #tuples are immutable,we can not change or never update the values\n",
        "print(t)\n"
      ],
      "metadata": {
        "colab": {
          "base_uri": "https://localhost:8080/",
          "height": 176
        },
        "id": "PIwWgGPuwqGx",
        "outputId": "a719751d-6b27-4813-cce0-0037d2fdf6b4"
      },
      "execution_count": null,
      "outputs": [
        {
          "output_type": "error",
          "ename": "TypeError",
          "evalue": "'tuple' object does not support item assignment",
          "traceback": [
            "\u001b[0;31m---------------------------------------------------------------------------\u001b[0m",
            "\u001b[0;31mTypeError\u001b[0m                                 Traceback (most recent call last)",
            "\u001b[0;32m<ipython-input-278-d17883eb3050>\u001b[0m in \u001b[0;36m<cell line: 2>\u001b[0;34m()\u001b[0m\n\u001b[1;32m      1\u001b[0m \u001b[0mt\u001b[0m\u001b[0;34m=\u001b[0m\u001b[0;34m(\u001b[0m\u001b[0;36m1\u001b[0m\u001b[0;34m,\u001b[0m\u001b[0;36m2\u001b[0m\u001b[0;34m,\u001b[0m\u001b[0;36m3\u001b[0m\u001b[0;34m)\u001b[0m\u001b[0;34m\u001b[0m\u001b[0;34m\u001b[0m\u001b[0m\n\u001b[0;32m----> 2\u001b[0;31m \u001b[0mt\u001b[0m\u001b[0;34m[\u001b[0m\u001b[0;36m0\u001b[0m\u001b[0;34m]\u001b[0m\u001b[0;34m=\u001b[0m\u001b[0;36m0\u001b[0m\u001b[0;34m\u001b[0m\u001b[0;34m\u001b[0m\u001b[0m\n\u001b[0m\u001b[1;32m      3\u001b[0m \u001b[0mprint\u001b[0m\u001b[0;34m(\u001b[0m\u001b[0mt\u001b[0m\u001b[0;34m)\u001b[0m\u001b[0;34m\u001b[0m\u001b[0;34m\u001b[0m\u001b[0m\n",
            "\u001b[0;31mTypeError\u001b[0m: 'tuple' object does not support item assignment"
          ]
        }
      ]
    },
    {
      "cell_type": "markdown",
      "source": [
        "**23** **You have a list of your favorite Marvel superheroes.\n",
        "heroes=['spider man','thor','hulk','iron man','captain america']  Using this list,\n",
        "find Length of the list\n",
        "Add 'black panther' at the end of this list.\n",
        "You realize that you need to add 'black panther' after 'hulk', so remove it from the list first and then add it after 'hulk'.\n",
        "Now you don't like thor and hulk because they get angry easily 🙂. So you want to remove thor and hulk from the list and replace them with Doctor Strange (because he is cool).Do that with one line of code.\n",
        "Sort the list in alphabetical order.**\n"
      ],
      "metadata": {
        "id": "Klfml8YfxNS0"
      }
    },
    {
      "cell_type": "code",
      "source": [
        "heros=[\"spider man\",\"thor\",\"hulk\",\"iron man\",\"capitan america\"]\n",
        "print(len(heros))\n",
        "heros.append(\"black panther\")\n",
        "print(heros)\n",
        "heros.pop(5)\n",
        "print(heros)\n",
        "heros.insert(3,\"black panther\")\n",
        "print(heros)\n",
        "heros.pop(1)\n",
        "print(heros)\n",
        "heros.pop(1)\n",
        "print(heros)\n",
        "heros.append(\"doctor strange\")\n",
        "print(heros)\n",
        "heros.sort(reverse=False)\n",
        "print(heros)\n"
      ],
      "metadata": {
        "colab": {
          "base_uri": "https://localhost:8080/"
        },
        "id": "DkvPsABLxZsL",
        "outputId": "761db1d3-6791-406f-b708-2b9f717dbe69"
      },
      "execution_count": null,
      "outputs": [
        {
          "output_type": "stream",
          "name": "stdout",
          "text": [
            "5\n",
            "['spider man', 'thor', 'hulk', 'iron man', 'capitan america', 'black panther']\n",
            "['spider man', 'thor', 'hulk', 'iron man', 'capitan america']\n",
            "['spider man', 'thor', 'hulk', 'black panther', 'iron man', 'capitan america']\n",
            "['spider man', 'hulk', 'black panther', 'iron man', 'capitan america']\n",
            "['spider man', 'black panther', 'iron man', 'capitan america']\n",
            "['spider man', 'black panther', 'iron man', 'capitan america', 'doctor strange']\n",
            "['black panther', 'capitan america', 'doctor strange', 'iron man', 'spider man']\n"
          ]
        }
      ]
    },
    {
      "cell_type": "code",
      "source": [],
      "metadata": {
        "id": "2wXaa5jrL0au"
      },
      "execution_count": null,
      "outputs": []
    },
    {
      "cell_type": "markdown",
      "source": [
        "**24**\n",
        "** Write a program to add item 7000 after 6000 in the following Python List:\n",
        "\tlist1 = [10, 20, [300, 400, [5000, 6000], 500], 30, 40]**\n",
        "\n"
      ],
      "metadata": {
        "id": "HnWdtTI2L1P_"
      }
    },
    {
      "cell_type": "code",
      "source": [
        "list=[10,20,[300,400,[5000,6000],500],30,40]\n",
        "list1=list[2][2]\n",
        "list1.insert(2,7000)\n",
        "print(list)\n"
      ],
      "metadata": {
        "colab": {
          "base_uri": "https://localhost:8080/"
        },
        "id": "1-j-ySzZAu1y",
        "outputId": "17000bc4-8992-4cd7-9ab4-a79f11fb56c7"
      },
      "execution_count": null,
      "outputs": [
        {
          "output_type": "stream",
          "name": "stdout",
          "text": [
            "[10, 20, [300, 400, [5000, 6000, 7000], 500], 30, 40]\n"
          ]
        }
      ]
    },
    {
      "cell_type": "code",
      "source": [],
      "metadata": {
        "id": "Y2hbR5x1fm5g"
      },
      "execution_count": null,
      "outputs": []
    },
    {
      "cell_type": "code",
      "source": [
        "lst = [1,2,3,4,5]\n",
        "for i in lst:\n",
        "  lst.remove(i)"
      ],
      "metadata": {
        "id": "yvr7lDH7foaD"
      },
      "execution_count": null,
      "outputs": []
    },
    {
      "cell_type": "code",
      "source": [
        "lst"
      ],
      "metadata": {
        "colab": {
          "base_uri": "https://localhost:8080/"
        },
        "id": "pwCoQQdffrbT",
        "outputId": "1b7c7ada-ff36-40a9-c830-68d237bd3d16"
      },
      "execution_count": null,
      "outputs": [
        {
          "output_type": "execute_result",
          "data": {
            "text/plain": [
              "[2, 4]"
            ]
          },
          "metadata": {},
          "execution_count": 5
        }
      ]
    },
    {
      "cell_type": "code",
      "source": [
        "s = \"rwnewjd\""
      ],
      "metadata": {
        "id": "J83xxALjgNZf"
      },
      "execution_count": null,
      "outputs": []
    },
    {
      "cell_type": "code",
      "source": [],
      "metadata": {
        "id": "dXumcZv7hwEC"
      },
      "execution_count": null,
      "outputs": []
    }
  ]
}