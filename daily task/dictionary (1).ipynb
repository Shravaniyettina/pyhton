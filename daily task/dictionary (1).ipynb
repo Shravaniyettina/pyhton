{
  "nbformat": 4,
  "nbformat_minor": 0,
  "metadata": {
    "colab": {
      "provenance": []
    },
    "kernelspec": {
      "name": "python3",
      "display_name": "Python 3"
    },
    "language_info": {
      "name": "python"
    }
  },
  "cells": [
    {
      "cell_type": "markdown",
      "source": [
        "**1Q**  **Create Dictionary for following information as “Student”:\n",
        "Name =  Lakshmi\n",
        "Gender= Female\n",
        "Occupation = Data Scientist\n",
        "Location = Nizampet, Hyderabad\n",
        "print keys in Student as a list.**\n"
      ],
      "metadata": {
        "id": "CFstNJxAjhW_"
      }
    },
    {
      "cell_type": "code",
      "source": [
        "student={\"name\":\"lakshmi\",\"gender\":\"female\",\"occupation\":\"data scientist\",\"location\":[\"nizampet\",\"hyderabad\"]}\n",
        "print(student.keys())\n",
        "print(list(student))\n"
      ],
      "metadata": {
        "colab": {
          "base_uri": "https://localhost:8080/"
        },
        "id": "SE9gpXeVjyjX",
        "outputId": "acdc4529-4e0f-41d1-90d2-235575141199"
      },
      "execution_count": null,
      "outputs": [
        {
          "output_type": "stream",
          "name": "stdout",
          "text": [
            "dict_keys(['name', 'gender', 'occupation', 'location'])\n",
            "['name', 'gender', 'occupation', 'location']\n"
          ]
        }
      ]
    },
    {
      "cell_type": "markdown",
      "source": [
        "**2**  **Create a dictionary with key-value pairs for a person's name and age.\n",
        "Add a new key-value pair \"city\" with the value \"Delhi\" to the person dictionary.\n",
        "Remove the last key-value pair from the person dictionary.\n",
        "Include {\"Car_color\": \"White\"} in the person's dictionary\n",
        "Sort the above person's dictionary by its keys.\n",
        "Remove ‘city’ from this dictionary.\n",
        "Clear all key-value pairs from the above dictionary.\n",
        "Print list of all the values in the dictionary. Also print a list of all the keys.**"
      ],
      "metadata": {
        "id": "zkkVC7wulgBp"
      }
    },
    {
      "cell_type": "code",
      "source": [
        "dict_1={\"name\":\"shravani\",\"age\":\"21\"}\n",
        "##a\n",
        "dict_1.update({\"city\":\"delhi\"})\n",
        "print(dict_1)\n"
      ],
      "metadata": {
        "colab": {
          "base_uri": "https://localhost:8080/"
        },
        "id": "mAh2ZfBplwG_",
        "outputId": "dfd04456-ab00-4fe5-d14d-76ad48026ce4"
      },
      "execution_count": null,
      "outputs": [
        {
          "output_type": "stream",
          "name": "stdout",
          "text": [
            "{'name': 'shravani', 'age': '21', 'city': 'delhi'}\n"
          ]
        }
      ]
    },
    {
      "cell_type": "code",
      "source": [
        "## 1(b)\n",
        "dict_1.popitem()\n",
        "print(dict_1)"
      ],
      "metadata": {
        "colab": {
          "base_uri": "https://localhost:8080/"
        },
        "id": "QvMb7w5RsMgY",
        "outputId": "a871c4ad-7366-4de4-ba03-8453757de9d7"
      },
      "execution_count": null,
      "outputs": [
        {
          "output_type": "stream",
          "name": "stdout",
          "text": [
            "{'name': 'shravani', 'age': '21'}\n"
          ]
        }
      ]
    },
    {
      "cell_type": "code",
      "source": [
        "# 1 (c)\n",
        "dict_1.update({\"car_color\":\"white\"})\n",
        "print(dict_1)"
      ],
      "metadata": {
        "colab": {
          "base_uri": "https://localhost:8080/"
        },
        "id": "RcjPE0ZZsSuk",
        "outputId": "0c2e8a9b-b05f-42d8-86fb-fe3bff07c6b5"
      },
      "execution_count": null,
      "outputs": [
        {
          "output_type": "stream",
          "name": "stdout",
          "text": [
            "{'name': 'shravani', 'age': '21', 'car_color': 'white'}\n"
          ]
        }
      ]
    },
    {
      "cell_type": "code",
      "source": [
        "## 1 (d)\n",
        "dict_1.keys()\n",
        "print(dict_1)"
      ],
      "metadata": {
        "colab": {
          "base_uri": "https://localhost:8080/"
        },
        "id": "Hghv0CmkscX3",
        "outputId": "73096c02-255d-4641-bdfa-89f986365f76"
      },
      "execution_count": null,
      "outputs": [
        {
          "output_type": "stream",
          "name": "stdout",
          "text": [
            "{'name': 'shravani', 'age': '21', 'car_color': 'white'}\n"
          ]
        }
      ]
    },
    {
      "cell_type": "code",
      "source": [
        "##1(e)\n",
        "dict_1.pop(\"city\")##city is not found  in list so it shows error\n",
        "print(dict_1)"
      ],
      "metadata": {
        "colab": {
          "base_uri": "https://localhost:8080/",
          "height": 176
        },
        "id": "lkC7GPH2qd-b",
        "outputId": "32390794-0c20-4186-9da0-f7271e4620c4"
      },
      "execution_count": null,
      "outputs": [
        {
          "output_type": "error",
          "ename": "KeyError",
          "evalue": "'city'",
          "traceback": [
            "\u001b[0;31m---------------------------------------------------------------------------\u001b[0m",
            "\u001b[0;31mKeyError\u001b[0m                                  Traceback (most recent call last)",
            "\u001b[0;32m<ipython-input-158-aaf1d106a110>\u001b[0m in \u001b[0;36m<cell line: 2>\u001b[0;34m()\u001b[0m\n\u001b[1;32m      1\u001b[0m \u001b[0;31m##1(e)\u001b[0m\u001b[0;34m\u001b[0m\u001b[0;34m\u001b[0m\u001b[0m\n\u001b[0;32m----> 2\u001b[0;31m \u001b[0mdict_1\u001b[0m\u001b[0;34m.\u001b[0m\u001b[0mpop\u001b[0m\u001b[0;34m(\u001b[0m\u001b[0;34m\"city\"\u001b[0m\u001b[0;34m)\u001b[0m\u001b[0;31m##city is not found  in list so it shows error\u001b[0m\u001b[0;34m\u001b[0m\u001b[0;34m\u001b[0m\u001b[0m\n\u001b[0m\u001b[1;32m      3\u001b[0m \u001b[0mprint\u001b[0m\u001b[0;34m(\u001b[0m\u001b[0mdict_1\u001b[0m\u001b[0;34m)\u001b[0m\u001b[0;34m\u001b[0m\u001b[0;34m\u001b[0m\u001b[0m\n",
            "\u001b[0;31mKeyError\u001b[0m: 'city'"
          ]
        }
      ]
    },
    {
      "cell_type": "code",
      "source": [
        "##1(f)\n",
        "dict_1.clear()\n",
        "print(dict_1)\n"
      ],
      "metadata": {
        "colab": {
          "base_uri": "https://localhost:8080/"
        },
        "id": "dk5idQxcpTkz",
        "outputId": "5323cad5-3538-4a23-ddf3-30abb0f0f1e6"
      },
      "execution_count": null,
      "outputs": [
        {
          "output_type": "stream",
          "name": "stdout",
          "text": [
            "{}\n"
          ]
        }
      ]
    },
    {
      "cell_type": "code",
      "source": [
        "##1(g)\n",
        "print(dict_1.keys())\n",
        "print(dict_1.values())"
      ],
      "metadata": {
        "colab": {
          "base_uri": "https://localhost:8080/"
        },
        "id": "1LptM2cbqGQh",
        "outputId": "5513a3f1-85b4-48e8-e2c7-aeeb0c5d8df2"
      },
      "execution_count": null,
      "outputs": [
        {
          "output_type": "stream",
          "name": "stdout",
          "text": [
            "dict_keys([])\n",
            "dict_values([])\n"
          ]
        }
      ]
    },
    {
      "cell_type": "markdown",
      "source": [
        "**3** ** 3.  Create a dictionary  Dic = {1: ”a”, 2: ”b”,  3: ”c”, 4: “d”}\n",
        "      Expected Output:  {”a”: 1 ,  ”b” : 2 ,  ”c” :3 , “d”:4}**\n"
      ],
      "metadata": {
        "id": "OW7oY9aPrrbY"
      }
    },
    {
      "cell_type": "code",
      "source": [
        "dictionary={1:\"a\",2:\"b\",3:\"c\",4:\"d\"}\n",
        "dictionary_1={}\n",
        "for i in range(0,4):\n",
        "      dictionary_1[list(dictionary.values())[i]]=list(dictionary.keys ())[i]\n",
        "print(dictionary_1)\n",
        "\n"
      ],
      "metadata": {
        "colab": {
          "base_uri": "https://localhost:8080/"
        },
        "id": "9WFvEljor1Li",
        "outputId": "6da8ff13-0d22-4a85-fafe-d21c0be0b907"
      },
      "execution_count": null,
      "outputs": [
        {
          "output_type": "stream",
          "name": "stdout",
          "text": [
            "{'a': 1, 'b': 2, 'c': 3, 'd': 4}\n"
          ]
        }
      ]
    },
    {
      "cell_type": "markdown",
      "source": [
        "**4 Q** **Explain dictionary Properties/ Attributes. What is the difference between dict.pop() and dict.popitem() ? explain with examples.**\n"
      ],
      "metadata": {
        "id": "p22Dk-FmvCd4"
      }
    },
    {
      "cell_type": "markdown",
      "source": [
        "**Properties of dictionary**\n",
        "\n",
        "    *it is mutable.\n",
        "    *it allow  different data types\n",
        "    *it is not ordered\n",
        "    *it does not allow duplicates\n",
        "\n",
        "  **dict.pop()**\n",
        "\n",
        "    *it take key values\n",
        "    *it can allow arguments\n",
        "    *the specified value can be removed\n",
        "\n",
        "  **dict.popitem()**\n",
        "  \n",
        "    *it does not allow arguments\n",
        "    *it does not allow key value\n",
        "    *last key-value removed"
      ],
      "metadata": {
        "id": "-riZ3GLsIdvA"
      }
    },
    {
      "cell_type": "code",
      "source": [
        "##Dict.pop()\n",
        "d={\"names\":\"ggg\",\"age\":\"90\",\"city\":\"hyd\"}\n",
        "print(d.pop(\"age\"))##>>>>arguments passed>>pop of these element\n",
        "print(d)##remaining key values are printed"
      ],
      "metadata": {
        "colab": {
          "base_uri": "https://localhost:8080/"
        },
        "id": "0AsL3VsZMpDw",
        "outputId": "35d5938b-82f9-417e-e179-f3f7959fd1e4"
      },
      "execution_count": null,
      "outputs": [
        {
          "output_type": "stream",
          "name": "stdout",
          "text": [
            "90\n",
            "{'names': 'ggg', 'city': 'hyd'}\n"
          ]
        }
      ]
    },
    {
      "cell_type": "code",
      "source": [
        "#dict.popitem()\n",
        "f={\"names\":\"ggg\",\"age\":\"90\",\"city\":\"hyd\"}\n",
        "print(f.popitem())## arguments are not passed>>>it pop the last elements>>i.e city is removed\n",
        "print(f)##remaining values are printed"
      ],
      "metadata": {
        "colab": {
          "base_uri": "https://localhost:8080/"
        },
        "id": "w3APJ2hRJTti",
        "outputId": "cad4e9da-6336-4f4a-a68c-e7b7090e7082"
      },
      "execution_count": null,
      "outputs": [
        {
          "output_type": "stream",
          "name": "stdout",
          "text": [
            "('city', 'hyd')\n",
            "{'names': 'ggg', 'age': '90'}\n"
          ]
        }
      ]
    },
    {
      "cell_type": "markdown",
      "source": [
        "**5** **Create a dictionary  dic = { “Python” : 90 , “EDA” : 89 , “SQL” : 98 , “Machine Learning” :   95}  apply all dictionary built in functions.**"
      ],
      "metadata": {
        "id": "tLjEUJQSPslK"
      }
    },
    {
      "cell_type": "code",
      "source": [
        "#built in functions are >>clear(),item(),get(),pop(),copy(),popitem(),update()\n",
        "dic={\"python\":90,\"EDA\":89,\"SQL\":98,\"Machine learning\":95}\n",
        "dic.get(\"SQL\")\n"
      ],
      "metadata": {
        "colab": {
          "base_uri": "https://localhost:8080/"
        },
        "id": "-XnyCHLhP30p",
        "outputId": "60b1216a-cf42-47ba-ea8e-e4f3ef5f99a8"
      },
      "execution_count": null,
      "outputs": [
        {
          "output_type": "execute_result",
          "data": {
            "text/plain": [
              "98"
            ]
          },
          "metadata": {},
          "execution_count": 189
        }
      ]
    },
    {
      "cell_type": "code",
      "source": [
        "dic.popitem()\n",
        "print(dic)"
      ],
      "metadata": {
        "colab": {
          "base_uri": "https://localhost:8080/"
        },
        "id": "11rwhJYEQjj7",
        "outputId": "4d66180b-b19d-4d9a-d12a-26327c06aac9"
      },
      "execution_count": null,
      "outputs": [
        {
          "output_type": "stream",
          "name": "stdout",
          "text": [
            "{'python': 90, 'EDA': 89}\n"
          ]
        }
      ]
    },
    {
      "cell_type": "code",
      "source": [
        "dic.copy()"
      ],
      "metadata": {
        "colab": {
          "base_uri": "https://localhost:8080/"
        },
        "id": "a59dC_HoQ2jp",
        "outputId": "b8891666-d9ac-455a-9989-6ec5b9e84e53"
      },
      "execution_count": null,
      "outputs": [
        {
          "output_type": "execute_result",
          "data": {
            "text/plain": [
              "{'python': 90, 'EDA': 89}"
            ]
          },
          "metadata": {},
          "execution_count": 192
        }
      ]
    },
    {
      "cell_type": "code",
      "source": [
        "dic.update({\"dsp\":56})\n",
        "print(dic)"
      ],
      "metadata": {
        "colab": {
          "base_uri": "https://localhost:8080/"
        },
        "id": "DX-zayt7Q98T",
        "outputId": "9774538a-3dce-4179-841a-445aa1cf5610"
      },
      "execution_count": null,
      "outputs": [
        {
          "output_type": "stream",
          "name": "stdout",
          "text": [
            "{'python': 90, 'EDA': 89, 'dsp': 56}\n"
          ]
        }
      ]
    },
    {
      "cell_type": "code",
      "source": [
        "dic={'python': 90, 'SQL': 98, 'dsp': 56}\n",
        "dic.items()"
      ],
      "metadata": {
        "colab": {
          "base_uri": "https://localhost:8080/"
        },
        "id": "2uYgNVQASVSA",
        "outputId": "68aa2fc4-6015-4729-db79-83a065860695"
      },
      "execution_count": null,
      "outputs": [
        {
          "output_type": "execute_result",
          "data": {
            "text/plain": [
              "dict_items([('python', 90), ('SQL', 98), ('dsp', 56)])"
            ]
          },
          "metadata": {},
          "execution_count": 197
        }
      ]
    },
    {
      "cell_type": "code",
      "source": [
        "dic={'pydthon': 90, 'SQL': 98, 'dsp': 56}\n",
        "dic.clear()\n",
        "print(dic)"
      ],
      "metadata": {
        "colab": {
          "base_uri": "https://localhost:8080/"
        },
        "id": "8oMQjenJS6aU",
        "outputId": "8d477d61-fdcc-47b4-dbe1-d6496b9e48d1"
      },
      "execution_count": null,
      "outputs": [
        {
          "output_type": "stream",
          "name": "stdout",
          "text": [
            "{}\n"
          ]
        }
      ]
    },
    {
      "cell_type": "code",
      "source": [
        "dic={'python': 90, 'SQL': 98, 'dsp': 56}\n",
        "dic.pop(\"python\")\n",
        "print(dic)"
      ],
      "metadata": {
        "colab": {
          "base_uri": "https://localhost:8080/"
        },
        "id": "3hd6_g_Vxt9D",
        "outputId": "b130325f-1734-4004-80f9-68c59be36ef1"
      },
      "execution_count": null,
      "outputs": [
        {
          "output_type": "stream",
          "name": "stdout",
          "text": [
            "{'SQL': 98, 'dsp': 56}\n"
          ]
        }
      ]
    }
  ]
}