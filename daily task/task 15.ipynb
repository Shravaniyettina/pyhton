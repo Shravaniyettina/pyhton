{
 "cells": [
  {
   "cell_type": "markdown",
   "id": "212e782f-a8fa-4172-a291-7c2003abe187",
   "metadata": {},
   "source": [
    "# task 15"
   ]
  },
  {
   "cell_type": "markdown",
   "id": "00326a60-2406-41f5-8661-39f88796be92",
   "metadata": {},
   "source": [
    "**1\n",
    "Write a Python program to create a ‘Vehicle’ class with static variables max_speed and mileage instance attributes. Print the attributes**.**\r\n",
    "Example output:\r\n",
    "max_speed = 240\r\n",
    "mileage **= 18\r\n"
   ]
  },
  {
   "cell_type": "code",
   "execution_count": 29,
   "id": "486aaa2a-c733-477f-9202-89a12f5967da",
   "metadata": {},
   "outputs": [
    {
     "name": "stdout",
     "output_type": "stream",
     "text": [
      "max_speed = 240\n",
      "mileage = 18\n"
     ]
    }
   ],
   "source": [
    "class vehicle:\n",
    "    max_speed=240\n",
    "    mileage=18\n",
    "obj1=vehicle()\n",
    "print(\"max_speed =\",obj1.max_speed)\n",
    "print(\"mileage =\",obj1.mileage)"
   ]
  },
  {
   "cell_type": "markdown",
   "id": "237328f0-56a9-45f3-a025-3fae7f6f6ac3",
   "metadata": {},
   "source": [
    "**2\n",
    "Create a Python class called 'Car' with attributes 'make' and 'model'. Instantiate an object of this class and print its attributes**.\r\n"
   ]
  },
  {
   "cell_type": "code",
   "execution_count": 131,
   "id": "d822ec30-936c-4e6a-87a9-7b68c2ab9771",
   "metadata": {},
   "outputs": [
    {
     "name": "stdout",
     "output_type": "stream",
     "text": [
      "tata motor\n",
      "tata car\n"
     ]
    }
   ],
   "source": [
    "class car:\n",
    "    make=\"tata motor\"\n",
    "    model=\"tata car\"\n",
    "object1=car()\n",
    "print(object1.make)\n",
    "print(object1.model)"
   ]
  },
  {
   "cell_type": "markdown",
   "id": "87324302-46e4-4501-86f2-25386cf5579c",
   "metadata": {},
   "source": [
    "**2bExpand the 'Car' class by adding a method called ‘display_info’ that prints the make and model of the car. Create an object and call this method.**\r\n"
   ]
  },
  {
   "cell_type": "code",
   "execution_count": 142,
   "id": "01959db9-fc89-4bb9-a020-71ff3fd47a24",
   "metadata": {},
   "outputs": [
    {
     "name": "stdout",
     "output_type": "stream",
     "text": [
      "tata motors tata cars\n"
     ]
    }
   ],
   "source": [
    "class car:\n",
    "    make=\"tata motors\"\n",
    "    model=\" tata cars\"\n",
    "    def display_info(self):\n",
    "        return self.make + self.model\n",
    "obj1=car()\n",
    "print(obj1.display_info())"
   ]
  },
  {
   "cell_type": "markdown",
   "id": "9c7e33ae-476a-4e44-8243-1ac2e1d98604",
   "metadata": {},
   "source": [
    "**3 Modify the ‘Car’ class to include a constructor (__init__) that initializes the make and model attributes. Instantiate an object using the constructor.**\r\n"
   ]
  },
  {
   "cell_type": "code",
   "execution_count": 78,
   "id": "a1e145b3-94df-435e-aa8c-c8a2fcd9bb15",
   "metadata": {},
   "outputs": [
    {
     "name": "stdout",
     "output_type": "stream",
     "text": [
      "tata motors\n",
      "tata car\n"
     ]
    }
   ],
   "source": [
    "class car():\n",
    "     def __init__(self,make,model):\n",
    "           self.make=make\n",
    "           self.model=model\n",
    "obj1=car(\"tata motors\",\"tata car\")\n",
    "print(obj1.make)\n",
    "print(obj1.model)"
   ]
  },
  {
   "cell_type": "markdown",
   "id": "3d6e00b6-c386-42d0-a1e3-1c1b2e3770cb",
   "metadata": {},
   "source": [
    "**3b Add a method 'get_total_cars' to the 'Car' class that returns the total number of cars created.** \r\n"
   ]
  },
  {
   "cell_type": "code",
   "execution_count": 111,
   "id": "c7d1cbb8-73e2-4fbc-b91a-1fb75be7753b",
   "metadata": {},
   "outputs": [
    {
     "name": "stdout",
     "output_type": "stream",
     "text": [
      "tata motors\n",
      "tata car\n",
      "1\n"
     ]
    }
   ],
   "source": [
    "class car():\n",
    "     def __init__(self,make,model):\n",
    "           self.make=make\n",
    "           self.model=model\n",
    "     def get_total_cars(self,count):\n",
    "           return count\n",
    "obj1=car(\"tata motors\",\"tata car\")\n",
    "print(obj1.make)\n",
    "print(obj1.model)\n",
    "print(obj1.get_total_cars(1))"
   ]
  },
  {
   "cell_type": "code",
   "execution_count": null,
   "id": "a953792e-d6fb-4a1b-ba4b-804cd67ec359",
   "metadata": {},
   "outputs": [],
   "source": []
  }
 ],
 "metadata": {
  "kernelspec": {
   "display_name": "Python 3 (ipykernel)",
   "language": "python",
   "name": "python3"
  },
  "language_info": {
   "codemirror_mode": {
    "name": "ipython",
    "version": 3
   },
   "file_extension": ".py",
   "mimetype": "text/x-python",
   "name": "python",
   "nbconvert_exporter": "python",
   "pygments_lexer": "ipython3",
   "version": "3.12.4"
  }
 },
 "nbformat": 4,
 "nbformat_minor": 5
}
