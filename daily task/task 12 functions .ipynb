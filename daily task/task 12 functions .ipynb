{
 "cells": [
  {
   "cell_type": "markdown",
   "id": "2b21b58e-8adb-4c1f-b03d-7288ebd4b1c5",
   "metadata": {},
   "source": [
    "## TASK 11"
   ]
  },
  {
   "cell_type": "markdown",
   "id": "b04dcf63-1351-4001-93b4-76fd89d9e1ec",
   "metadata": {},
   "source": [
    "**1** **Write a function square(x) that returns the square of the number x.**\r\n"
   ]
  },
  {
   "cell_type": "code",
   "execution_count": 202,
   "id": "55dff7d2-188e-481b-becb-ef1195c08fa0",
   "metadata": {},
   "outputs": [
    {
     "data": {
      "text/plain": [
       "64"
      ]
     },
     "execution_count": 202,
     "metadata": {},
     "output_type": "execute_result"
    }
   ],
   "source": [
    "def square(x):\n",
    "    square=x**2\n",
    "    return square\n",
    "square(2)"
   ]
  },
  {
   "cell_type": "markdown",
   "id": "8ba8ca92-7762-4d36-9138-7f5afe087030",
   "metadata": {},
   "source": [
    "**2**  **Write a function to_uppercase(s) that converts all characters in a string s to uppercase**"
   ]
  },
  {
   "cell_type": "code",
   "execution_count": 204,
   "id": "5b91f05b-021b-4aec-8f91-dc3d3f369f44",
   "metadata": {},
   "outputs": [
    {
     "data": {
      "text/plain": [
       "'WELCOME'"
      ]
     },
     "execution_count": 204,
     "metadata": {},
     "output_type": "execute_result"
    }
   ],
   "source": [
    "def to_uppercase(s):\n",
    "     s1= s.upper()\n",
    "     return s1\n",
    "to_uppercase(\"welcome\")  \n",
    "     "
   ]
  },
  {
   "cell_type": "markdown",
   "id": "a703ed03-007a-4d60-b5c7-9647c4c30849",
   "metadata": {},
   "source": [
    "**3**  **Write a function find_max(a, b) that returns the maximum of two numbers a and b**\r\n"
   ]
  },
  {
   "cell_type": "code",
   "execution_count": 206,
   "id": "d8217498-5c4c-4d20-88df-265b05e81339",
   "metadata": {},
   "outputs": [
    {
     "name": "stdout",
     "output_type": "stream",
     "text": [
      "90 max\n"
     ]
    }
   ],
   "source": [
    "def find_max(a,b):\n",
    "    if a>b:\n",
    "        print(a,\"max\")\n",
    "    else: \n",
    "        print(b,\"max\")\n",
    "          \n",
    "find_max(78,90)"
   ]
  },
  {
   "cell_type": "markdown",
   "id": "17956b4f-49af-4f7c-be15-7afce0b49d98",
   "metadata": {},
   "source": [
    "**4**  **Write a function count_vowels(s) that returns the number of vowels (a, e, i, o, u) in a string s.**\r\n"
   ]
  },
  {
   "cell_type": "code",
   "execution_count": 252,
   "id": "2f29f447-4918-441c-9732-aee3dd34d8d0",
   "metadata": {},
   "outputs": [
    {
     "data": {
      "text/plain": [
       "14"
      ]
     },
     "execution_count": 252,
     "metadata": {},
     "output_type": "execute_result"
    }
   ],
   "source": [
    "def count_vowels(s):\n",
    "   count_a =0\n",
    "   count_e=0\n",
    "   count_i=0\n",
    "   count_o=0\n",
    "   count_u=0\n",
    "   for i in s:\n",
    "       if i==\"a\":\n",
    "          count_a=count_a+1\n",
    "       elif i==\"e\":\n",
    "          count_e=count_e+1\n",
    "       elif i==\"i\":\n",
    "          count_i=count_i+1\n",
    "       elif i==\"o\":\n",
    "          count_o=count_o+1\n",
    "       elif i==\"u\":\n",
    "          count_u=count_u+1 \n",
    "   res= count_a+count_e+count_i+count_o+count_u\n",
    "   return res    \n",
    "count_vowels(\"ariiiiioooouuuudnq\")"
   ]
  },
  {
   "cell_type": "markdown",
   "id": "7ec8f944-c075-45b3-b811-2060c774cd89",
   "metadata": {},
   "source": [
    "**5**  **Write a function concat_strings(s1, s2) that returns the concatenation of two strings s1 and s2.**\r\n"
   ]
  },
  {
   "cell_type": "code",
   "execution_count": 259,
   "id": "5a61722e-fbc3-4df4-9b48-72aac948b8a3",
   "metadata": {},
   "outputs": [
    {
     "data": {
      "text/plain": [
       "'yettinashravani'"
      ]
     },
     "execution_count": 259,
     "metadata": {},
     "output_type": "execute_result"
    }
   ],
   "source": [
    "def concat_strings(s1,s2):\n",
    "     res=s1+s2\n",
    "     return res\n",
    "concat_strings(\"yettina\",\"shravani\")   "
   ]
  },
  {
   "cell_type": "markdown",
   "id": "f9b26bb9-fe54-470a-89a3-65c5e0c8a284",
   "metadata": {},
   "source": [
    "**6**  **Write a function remove_duplicates(lst) that takes a list lst and returns a new list with duplicate elements removed.**\r\n"
   ]
  },
  {
   "cell_type": "code",
   "execution_count": 280,
   "id": "3cbc51ec-439e-4101-bfc4-d00f93f9b6d1",
   "metadata": {},
   "outputs": [
    {
     "data": {
      "text/plain": [
       "[0, 4, 7, 8, 9]"
      ]
     },
     "execution_count": 280,
     "metadata": {},
     "output_type": "execute_result"
    }
   ],
   "source": [
    "def remove_duplicates(lst):\n",
    "    lst=set(lst)\n",
    "    r=set()\n",
    "    res=lst|r\n",
    "    result=list(res)\n",
    "    return result   \n",
    "remove_duplicates([4,7,8,9,9,0,8,])\n"
   ]
  },
  {
   "cell_type": "markdown",
   "id": "c6638402-09e1-4a25-916c-53116f004859",
   "metadata": {},
   "source": [
    "**7**  **Write a function char_frequency(s) that returns a dictionary where the keys are characters in the string s and the values are the number of times each character appears.**\r\n"
   ]
  },
  {
   "cell_type": "code",
   "execution_count": 309,
   "id": "04a563f0-6ff7-4ecb-ba16-b5e9f6cfbb22",
   "metadata": {},
   "outputs": [
    {
     "data": {
      "text/plain": [
       "Counter({'d': 4, 'j': 2, 'h': 2, 'w': 1})"
      ]
     },
     "execution_count": 309,
     "metadata": {},
     "output_type": "execute_result"
    }
   ],
   "source": [
    "\n",
    "def char_frequency(s):\n",
    "    from collections import Counter\n",
    "    s1=Counter(s)\n",
    "    return s1\n",
    "char_frequency(\"jhdddjwdh\")"
   ]
  },
  {
   "cell_type": "markdown",
   "id": "c7b5dc9b-044f-466a-be96-ab6d487f2f78",
   "metadata": {},
   "source": [
    "**8** **Write a function sum_even_numbers(lst) that returns the sum of all even numbers in a list lst.**\r\n",
    "\r\n"
   ]
  },
  {
   "cell_type": "code",
   "execution_count": 340,
   "id": "55b5b8d5-c1bd-45f5-9136-4055d6a80805",
   "metadata": {},
   "outputs": [
    {
     "data": {
      "text/plain": [
       "20"
      ]
     },
     "execution_count": 340,
     "metadata": {},
     "output_type": "execute_result"
    }
   ],
   "source": [
    "def sum_even_numbers(lst):\n",
    "    sum=0\n",
    "    for i in lst:\n",
    "        if i%2==0:\n",
    "            sum=sum+i \n",
    "    return sum\n",
    "            \n",
    "sum_even_numbers([2,3,4,6,8,9]) "
   ]
  },
  {
   "cell_type": "code",
   "execution_count": null,
   "id": "e57629ee-fda0-4d02-9707-bd7da7b2ffe0",
   "metadata": {},
   "outputs": [],
   "source": []
  }
 ],
 "metadata": {
  "kernelspec": {
   "display_name": "Python 3 (ipykernel)",
   "language": "python",
   "name": "python3"
  },
  "language_info": {
   "codemirror_mode": {
    "name": "ipython",
    "version": 3
   },
   "file_extension": ".py",
   "mimetype": "text/x-python",
   "name": "python",
   "nbconvert_exporter": "python",
   "pygments_lexer": "ipython3",
   "version": "3.12.4"
  }
 },
 "nbformat": 4,
 "nbformat_minor": 5
}
