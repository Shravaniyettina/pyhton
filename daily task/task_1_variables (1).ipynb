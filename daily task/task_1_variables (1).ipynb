{
  "nbformat": 4,
  "nbformat_minor": 0,
  "metadata": {
    "colab": {
      "provenance": []
    },
    "kernelspec": {
      "name": "python3",
      "display_name": "Python 3"
    },
    "language_info": {
      "name": "python"
    }
  },
  "cells": [
    {
      "cell_type": "code",
      "source": [],
      "metadata": {
        "id": "l-2bZvJsPQCB"
      },
      "execution_count": null,
      "outputs": []
    },
    {
      "cell_type": "markdown",
      "source": [
        "1.create different variables to store your name,your age,and your parents name.\n",
        "a.print your name\n",
        "b.create more variables needed for bio data\n",
        "c.now print your whole biodata using variables."
      ],
      "metadata": {
        "id": "SUcN8RlrPaX0"
      }
    },
    {
      "cell_type": "code",
      "source": [
        "name=\"shravani\"\n",
        "age=21\n",
        "father=\"gangadhar\"\n",
        "mother=\"gangamutthu\"\n",
        "education=\"B.Tech(ece)\"\n",
        "city=\"nizamabad\"\n",
        "print(\"hi i am \",name)\n",
        "print(\"from \",city)\n",
        "print(\"and my age is \",age)\n",
        "print(\"my father name\",father)\n",
        "print(\"my mother name\",mother)\n",
        "print(\"my educational background is\",education)\n"
      ],
      "metadata": {
        "colab": {
          "base_uri": "https://localhost:8080/"
        },
        "id": "zqNv4TnsQZAm",
        "outputId": "b7f86fa2-99b3-419c-9803-978050ed8f7c"
      },
      "execution_count": null,
      "outputs": [
        {
          "output_type": "stream",
          "name": "stdout",
          "text": [
            "hi i am  shravani\n",
            "from  nizamabad\n",
            "and my age is  21\n",
            "my father name gangadhar\n",
            "my mother name gangamutthu\n",
            "my educational background is B.Tech(ece)\n"
          ]
        }
      ]
    },
    {
      "cell_type": "markdown",
      "source": [
        "2.create two varibles.one to store your first nameand another to store your surname.now,print your name so that the surname prints first."
      ],
      "metadata": {
        "id": "rsjFjj6WPRyX"
      }
    },
    {
      "cell_type": "code",
      "source": [
        "name=input(\"enter your name :\")\n",
        "surname=input(\"enter your surname :\")\n",
        "print(\"surname is\",surname)\n",
        "print(\"name is\",name)"
      ],
      "metadata": {
        "colab": {
          "base_uri": "https://localhost:8080/"
        },
        "id": "C6DioRwpVPJO",
        "outputId": "d9ad2bfa-b143-4cda-b16d-3df672ef0a6e"
      },
      "execution_count": null,
      "outputs": [
        {
          "output_type": "stream",
          "name": "stdout",
          "text": [
            "enter your name : shravani\n",
            "enter your surname :yettina\n",
            "surname is yettina\n",
            "name is  shravani\n"
          ]
        }
      ]
    },
    {
      "cell_type": "markdown",
      "source": [
        "3.write rules on how to create a variable in markdown cell using text formatting.\n"
      ],
      "metadata": {
        "id": "88o_mOLPUHyy"
      }
    },
    {
      "cell_type": "markdown",
      "source": [
        "some rules to create variables\n",
        "*when the varible is created,we should convert to markdown by pressing the key **esc+m**.\n",
        "* to run we press the **shift+enter**\n",
        "*to add above the variable cell we use the key **esc+a**\n",
        "*to add  below the cell we use **esc+b**.\n",
        "*to delete we press the key as **esc+double d**\n",
        "\n"
      ],
      "metadata": {
        "id": "I6O7AjJXWcUu"
      }
    },
    {
      "cell_type": "markdown",
      "source": [
        "**bold text**"
      ],
      "metadata": {
        "id": "lGrUsDKbWCMQ"
      }
    },
    {
      "cell_type": "markdown",
      "source": [
        "4.create a variable called break and assign it a value 16.see what happens ,and find out the reason behind the behaviour that you see."
      ],
      "metadata": {
        "id": "5pIQwKkFVLFo"
      }
    },
    {
      "cell_type": "code",
      "source": [
        "break=16\n",
        "print(\"break is\",break)"
      ],
      "metadata": {
        "colab": {
          "base_uri": "https://localhost:8080/",
          "height": 106
        },
        "id": "UJrk0ePNXLYx",
        "outputId": "19370b7a-4165-4328-84c4-ac1a2fd7365e"
      },
      "execution_count": null,
      "outputs": [
        {
          "output_type": "error",
          "ename": "SyntaxError",
          "evalue": "invalid syntax (<ipython-input-6-4c1138cd6641>, line 1)",
          "traceback": [
            "\u001b[0;36m  File \u001b[0;32m\"<ipython-input-6-4c1138cd6641>\"\u001b[0;36m, line \u001b[0;32m1\u001b[0m\n\u001b[0;31m    break=16\u001b[0m\n\u001b[0m         ^\u001b[0m\n\u001b[0;31mSyntaxError\u001b[0m\u001b[0;31m:\u001b[0m invalid syntax\n"
          ]
        }
      ]
    },
    {
      "cell_type": "markdown",
      "source": [
        "Because it is a built in keyword. Built in keywords\n",
        " have different colours.we can not store the varible in keywords.\n",
        "\n"
      ],
      "metadata": {
        "id": "92Wy1p63XooF"
      }
    },
    {
      "cell_type": "markdown",
      "source": [
        "5.a.assign the values 1,2and 3 to the variables x,y,and z,respectively,in a single line.\n",
        "b.print values of x,y,and z."
      ],
      "metadata": {
        "id": "dEt4KImAZVL9"
      }
    },
    {
      "cell_type": "markdown",
      "source": [],
      "metadata": {
        "id": "mNbzcUr4ZYJo"
      }
    },
    {
      "cell_type": "code",
      "source": [
        "x,y,z=1,2,3\n",
        "print(x,y,z)"
      ],
      "metadata": {
        "colab": {
          "base_uri": "https://localhost:8080/"
        },
        "id": "oTM8TfxiaD2T",
        "outputId": "3d7388a1-785e-40cd-b184-e24decf7011f"
      },
      "execution_count": null,
      "outputs": [
        {
          "output_type": "stream",
          "name": "stdout",
          "text": [
            "1 2 3\n"
          ]
        }
      ]
    }
  ]
}