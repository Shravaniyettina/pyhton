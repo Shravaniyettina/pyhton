{
 "cells": [
  {
   "cell_type": "markdown",
   "id": "b2402363-8291-4ccc-a9ad-fca215db941f",
   "metadata": {},
   "source": [
    "# task 13"
   ]
  },
  {
   "cell_type": "markdown",
   "id": "b2de2d0d-8def-4a84-b390-540090ef9ea8",
   "metadata": {},
   "source": [
    "**1\n",
    "Using in-built function filter() with a lambda function filter even numbers from a given list**\n",
    "\n",
    "\n",
    "\n",
    "\n",
    "\n",
    "\n",
    "\n",
    "\n",
    "\n",
    "\n",
    "\n",
    "\n",
    "\n",
    "\n",
    "\n",
    "\n",
    "\n",
    "\n",
    "**\r\n",
    "num = [17, ,32,45,53,61,72,84,97]**\n",
    "7]\r\n"
   ]
  },
  {
   "cell_type": "code",
   "execution_count": 148,
   "id": "c7ca190e-854d-43bc-9844-bbde10c00a6d",
   "metadata": {},
   "outputs": [
    {
     "data": {
      "text/plain": [
       "[20, 32, 72, 84]"
      ]
     },
     "execution_count": 148,
     "metadata": {},
     "output_type": "execute_result"
    }
   ],
   "source": [
    "num=[17, 20, 32, 45, 53, 61, 72, 84, 97]\n",
    "even=lambda x:x%2==0\n",
    "list(filter(even,num))\n"
   ]
  },
  {
   "cell_type": "markdown",
   "id": "57b0fdf5-9c51-4b53-8535-53b39754ebea",
   "metadata": {},
   "source": [
    "**2**  **Write a Python function to find the maximum of three numbers.**\n"
   ]
  },
  {
   "cell_type": "code",
   "execution_count": 150,
   "id": "e56a01c6-ac7f-451d-b31c-9cf92ecc54db",
   "metadata": {},
   "outputs": [
    {
     "name": "stdout",
     "output_type": "stream",
     "text": [
      "10\n"
     ]
    }
   ],
   "source": [
    "def max_numbers(x,y,z):\n",
    "    if x>y and x>z:\n",
    "        print(x)\n",
    "    elif x<y and y>z:\n",
    "         print(y)\n",
    "    elif x<z and y<z:\n",
    "          print(z)\n",
    "max_numbers(8,10,1)\n"
   ]
  },
  {
   "cell_type": "code",
   "execution_count": 252,
   "id": "b1d4adb2-8717-4f13-8bb8-70908fd643ce",
   "metadata": {},
   "outputs": [
    {
     "name": "stdout",
     "output_type": "stream",
     "text": [
      "10 max\n",
      "10 max\n",
      "10 max\n"
     ]
    },
    {
     "data": {
      "text/plain": [
       "[None, None, None]"
      ]
     },
     "execution_count": 252,
     "metadata": {},
     "output_type": "execute_result"
    }
   ],
   "source": [
    "lst7=x,y,z=8,10,1\n",
    "def max_numbers(lst7):\n",
    "    if x>y and x>z:\n",
    "        print(x,\"max\")\n",
    "    elif x<y and y>z:\n",
    "         print(y,\"max\")\n",
    "    else:\n",
    "          print(z,\"max\")\n",
    "list(map(max_numbers,lst7))\n"
   ]
  },
  {
   "cell_type": "markdown",
   "id": "8f86af48-167e-412f-a9ab-38c468239b74",
   "metadata": {},
   "source": [
    "**3a Write a Python function to check whether a number falls within a given range.**"
   ]
  },
  {
   "cell_type": "code",
   "execution_count": 9,
   "id": "70c447f9-8436-4062-8382-45f9f46a9593",
   "metadata": {},
   "outputs": [
    {
     "name": "stdout",
     "output_type": "stream",
     "text": [
      "it is in  range 7\n"
     ]
    }
   ],
   "source": [
    "\n",
    "def num_check(num,low,high):\n",
    "    if num>low and num<high:\n",
    "        print(\"it is in  range\",num)\n",
    "    else:\n",
    "        num<low and num>high\n",
    "        print(\"it is in exclusive range\",num)\n",
    "num_check(7,6,9)"
   ]
  },
  {
   "cell_type": "code",
   "execution_count": 254,
   "id": "f2bebe6b-bf77-4708-9793-d681cf103521",
   "metadata": {},
   "outputs": [
    {
     "name": "stdout",
     "output_type": "stream",
     "text": [
      "it is in  range 7\n",
      "it is in  range 7\n",
      "it is in  range 7\n"
     ]
    },
    {
     "data": {
      "text/plain": [
       "[None, None, None]"
      ]
     },
     "execution_count": 254,
     "metadata": {},
     "output_type": "execute_result"
    }
   ],
   "source": [
    "lst8=num,low,high,=7,6,9\n",
    "def num_check(lst8):\n",
    "    if num>low and num<high:\n",
    "        print(\"it is in  range\",num)\n",
    "    else:\n",
    "        num<low and num>high\n",
    "        print(\"it is in exclusive range\",num)\n",
    "list(map(num_check,lst8))"
   ]
  },
  {
   "cell_type": "markdown",
   "id": "6c5fb3ca-4985-4824-9161-c46bd706390c",
   "metadata": {},
   "source": [
    "**3b** **Write a Python function that takes a list and returns a new list with distinct elements from the first list.**\r\n"
   ]
  },
  {
   "cell_type": "code",
   "execution_count": 154,
   "id": "1410812c-b12e-4787-8d26-646bbe321a8f",
   "metadata": {},
   "outputs": [
    {
     "name": "stdout",
     "output_type": "stream",
     "text": [
      "[6, 7, 8, 9, 10]\n"
     ]
    }
   ],
   "source": [
    "list1=[6,7,8,9,10]\n",
    "list2=[]\n",
    "def new_list(list2):\n",
    "   list2.extend(list1)\n",
    "   print(list2)\n",
    "new_list(list2)"
   ]
  },
  {
   "cell_type": "code",
   "execution_count": 43,
   "id": "32d13061-004e-4db1-8808-ce4f2a892e9b",
   "metadata": {},
   "outputs": [
    {
     "data": {
      "text/plain": [
       "[[6, 7, 8, 9, 10]]"
      ]
     },
     "execution_count": 43,
     "metadata": {},
     "output_type": "execute_result"
    }
   ],
   "source": [
    "list1=[6,7,8,9,10]\n",
    "def new_list(list1):\n",
    "    s= list1.copy()\n",
    "    return s\n",
    "list(map(new_list,[list1]))"
   ]
  },
  {
   "cell_type": "markdown",
   "id": "6a1a59b5-1a62-4034-b3ad-37b5835e4fd5",
   "metadata": {},
   "source": [
    "**4 Write a Python function that accepts a string and counts the number of uppe  and lowe case letter**\n",
    "\r\n"
   ]
  },
  {
   "cell_type": "code",
   "execution_count": 158,
   "id": "f6cd3e17-46f3-4417-a2bc-4e5b7a8b7f94",
   "metadata": {},
   "outputs": [
    {
     "name": "stdout",
     "output_type": "stream",
     "text": [
      "count of upper letters 3\n",
      "count of lower letters 12\n"
     ]
    }
   ],
   "source": [
    "def count_up_low(string):\n",
    "    upper=0\n",
    "    lower=0\n",
    "    for i in string:\n",
    "        if i.isupper():\n",
    "            upper=upper+1\n",
    "        elif i.islower():\n",
    "             lower=lower+1\n",
    "    print(\"count of upper letters\",upper)\n",
    "    print(\"count of lower letters\",lower)\n",
    "count_up_low(\"This is the STring\")"
   ]
  },
  {
   "cell_type": "code",
   "execution_count": 312,
   "id": "011b916b-1d7d-463b-9476-5b5063fcc025",
   "metadata": {},
   "outputs": [
    {
     "name": "stdout",
     "output_type": "stream",
     "text": [
      "count of upper letters 2\n",
      "count of lower letters 2\n",
      "[None]\n"
     ]
    }
   ],
   "source": [
    "string=[\"A\",\"B\",\"c\",\"d\"]\n",
    "def count_up_low(string):\n",
    "    upper=0\n",
    "    lower=0\n",
    "    for i in string:\n",
    "        if i.isupper():\n",
    "            upper=upper+1\n",
    "        elif i.islower():\n",
    "             lower=lower+1\n",
    "    print(\"count of upper letters\",upper)\n",
    "    print(\"count of lower letters\",lower)\n",
    "print(list(map(count_up_low,[string])))"
   ]
  },
  {
   "cell_type": "markdown",
   "id": "43761aca-ade1-4f2d-a4c6-2c9d2d2d6666",
   "metadata": {},
   "source": [
    "**5** **Write a function to check if the given number if even or not.**\r\n"
   ]
  },
  {
   "cell_type": "code",
   "execution_count": 232,
   "id": "16c88c4b-3fc0-4fb5-8820-c1775b7987c7",
   "metadata": {},
   "outputs": [
    {
     "name": "stdout",
     "output_type": "stream",
     "text": [
      "1 False ,2 True ,3 False ,4 True ,"
     ]
    }
   ],
   "source": [
    "def even_check(even):\n",
    "    for i in even:\n",
    "        if i%2==0:\n",
    "           print(i,True,end=\" ,\")\n",
    "        else:\n",
    "           print(i,False,end=\" ,\")\n",
    "            \n",
    "even_check([1,2,3,4])"
   ]
  },
  {
   "cell_type": "code",
   "execution_count": 234,
   "id": "87c36e65-c1fe-4d04-b7cf-3451a6a51ad7",
   "metadata": {},
   "outputs": [
    {
     "name": "stdout",
     "output_type": "stream",
     "text": [
      "12 True ,8 True ,56 True ,89 False ,"
     ]
    },
    {
     "data": {
      "text/plain": [
       "[None]"
      ]
     },
     "execution_count": 234,
     "metadata": {},
     "output_type": "execute_result"
    }
   ],
   "source": [
    "s=[12,8,56,89]\n",
    "def even_check(even):\n",
    "    for i in s:\n",
    "        if i%2==0:\n",
    "           print(i,True,end=\" ,\")\n",
    "        else:\n",
    "           print(i,False,end=\" ,\")\n",
    "            \n",
    "list(map(even_check,[s]))"
   ]
  },
  {
   "cell_type": "markdown",
   "id": "d982556d-04a4-4467-9581-79d6718548b8",
   "metadata": {},
   "source": [
    "**6a** **Write a function square(x) that returns the square of the number x**"
   ]
  },
  {
   "cell_type": "code",
   "execution_count": 164,
   "id": "7791f4c9-a4b1-4bc9-9830-e6222cab4797",
   "metadata": {},
   "outputs": [
    {
     "data": {
      "text/plain": [
       "16"
      ]
     },
     "execution_count": 164,
     "metadata": {},
     "output_type": "execute_result"
    }
   ],
   "source": [
    "def square(x):\n",
    "    square=x**2\n",
    "    return square\n",
    "square(4)"
   ]
  },
  {
   "cell_type": "code",
   "execution_count": 236,
   "id": "6a88c632-27fb-497e-ad09-dd17ceafe7e1",
   "metadata": {},
   "outputs": [
    {
     "data": {
      "text/plain": [
       "[1, 4, 9, 16]"
      ]
     },
     "execution_count": 236,
     "metadata": {},
     "output_type": "execute_result"
    }
   ],
   "source": [
    "a=[1,2,3,4]\n",
    "def square(x):\n",
    "    square=x**2\n",
    "    return square\n",
    "list(map(square,a))"
   ]
  },
  {
   "cell_type": "markdown",
   "id": "6b6d3e14-7f98-4e6b-bee3-31eefc6e42ba",
   "metadata": {},
   "source": [
    "**6b** **Write a function to_uppercase(s) that converts all characters in a string s to uppercase**\r\n"
   ]
  },
  {
   "cell_type": "code",
   "execution_count": 167,
   "id": "ea17383d-98ab-4061-9e3e-a39a22387cfc",
   "metadata": {},
   "outputs": [
    {
     "data": {
      "text/plain": [
       "'HI HELLO HI HELLO HI HELLO'"
      ]
     },
     "execution_count": 167,
     "metadata": {},
     "output_type": "execute_result"
    }
   ],
   "source": [
    "def to_uppercase(s):\n",
    "    string= s.upper()\n",
    "    return string\n",
    "to_uppercase(\"hi hello hi hello hi hello\")"
   ]
  },
  {
   "cell_type": "code",
   "execution_count": 168,
   "id": "905251bb-5f0e-4d50-8f0f-34db7f04fd74",
   "metadata": {},
   "outputs": [
    {
     "data": {
      "text/plain": [
       "['HI HELLO']"
      ]
     },
     "execution_count": 168,
     "metadata": {},
     "output_type": "execute_result"
    }
   ],
   "source": [
    "def to_uppercase(s):\n",
    "    string= s.upper()\n",
    "    return string\n",
    "list(map(to_uppercase,[\"hi hello\"]))"
   ]
  },
  {
   "cell_type": "markdown",
   "id": "62860214-9724-4f94-bef9-5172fe4fe1b2",
   "metadata": {},
   "source": [
    "**6c**  **Write a function find_max(a, b) that returns the maximum of two numbers a and b**\r\n"
   ]
  },
  {
   "cell_type": "code",
   "execution_count": 288,
   "id": "0c2ab1ec-9836-4802-b76f-78a8ee00f964",
   "metadata": {},
   "outputs": [
    {
     "name": "stdout",
     "output_type": "stream",
     "text": [
      "10 max\n"
     ]
    }
   ],
   "source": [
    "\n",
    "def find_max(a,b):\n",
    "        if a>b:\n",
    "             print(a,\"max\")\n",
    "        else :\n",
    "             print(b,\"max\")\n",
    "find_max(9,10)"
   ]
  },
  {
   "cell_type": "code",
   "execution_count": 300,
   "id": "153a4869-6b92-4c08-950e-d725ec5f0227",
   "metadata": {},
   "outputs": [
    {
     "name": "stdout",
     "output_type": "stream",
     "text": [
      "9 max\n",
      "9 max\n"
     ]
    },
    {
     "data": {
      "text/plain": [
       "[None, None]"
      ]
     },
     "execution_count": 300,
     "metadata": {},
     "output_type": "execute_result"
    }
   ],
   "source": [
    "list1=a,b=5,9\n",
    "def find_max(list1):\n",
    "        if a>b:\n",
    "             print(a,\"max\")\n",
    "        else :\n",
    "             print(b,\"max\")\n",
    "list(map(find_max,list1))"
   ]
  },
  {
   "cell_type": "code",
   "execution_count": null,
   "id": "5eda9f44-b2c2-4ef8-995a-46298d87b504",
   "metadata": {},
   "outputs": [],
   "source": []
  }
 ],
 "metadata": {
  "kernelspec": {
   "display_name": "Python 3 (ipykernel)",
   "language": "python",
   "name": "python3"
  },
  "language_info": {
   "codemirror_mode": {
    "name": "ipython",
    "version": 3
   },
   "file_extension": ".py",
   "mimetype": "text/x-python",
   "name": "python",
   "nbconvert_exporter": "python",
   "pygments_lexer": "ipython3",
   "version": "3.12.4"
  }
 },
 "nbformat": 4,
 "nbformat_minor": 5
}
