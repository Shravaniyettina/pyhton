{
 "cells": [
  {
   "cell_type": "markdown",
   "id": "9cac0bd3-eb90-4a3d-a558-b28a744dde8d",
   "metadata": {},
   "source": [
    "**1a** **Write a function to get the maximum of 3 numbers.***\r",
    "odd\r\n"
   ]
  },
  {
   "cell_type": "code",
   "execution_count": 1,
   "id": "1c2f163f-8f7c-477e-a96c-90746d014ca3",
   "metadata": {},
   "outputs": [
    {
     "name": "stdout",
     "output_type": "stream",
     "text": [
      "89 is the max value among three numbers\n"
     ]
    }
   ],
   "source": [
    "def max(max_value):\n",
    "   max_reference=0\n",
    "   for i in max_value:\n",
    "       if i>max_reference:\n",
    "              max_reference=i\n",
    "   print(max_reference,\"is the max value among three numbers\")\n",
    "max([23,89,78])             "
   ]
  },
  {
   "cell_type": "markdown",
   "id": "610fffca-776f-4c6e-8c5f-4d1fc1fc405f",
   "metadata": {},
   "source": [
    "**1b**  **Write a function to check if the given number if even or not**\r",
    "** Example**:\n",
    "**  is_even(10) , then o/p: ev**en**   is_even(23), then o/p: **odd\r\n"
   ]
  },
  {
   "cell_type": "code",
   "execution_count": 3,
   "id": "8b2aca8a-ec04-42ef-a660-5f98868dcaa2",
   "metadata": {},
   "outputs": [
    {
     "name": "stdout",
     "output_type": "stream",
     "text": [
      "it is even_number 10\n"
     ]
    }
   ],
   "source": [
    "def number(num):\n",
    "        if num%2==0:\n",
    "            print(\"it is even_number\",num)\n",
    "        else:\n",
    "            print(\"it is odd number\",num)\n",
    "number(10)"
   ]
  },
  {
   "cell_type": "code",
   "execution_count": 5,
   "id": "4c9f86a3-947d-4ba9-b617-4ebc5490d94f",
   "metadata": {},
   "outputs": [
    {
     "name": "stdout",
     "output_type": "stream",
     "text": [
      "it is even number 10\n",
      "it is odd number 23\n"
     ]
    }
   ],
   "source": [
    "def number(num):\n",
    "    for i in num:\n",
    "        if i%2==0:\n",
    "            print(\"it is even number\",i)\n",
    "        else:\n",
    "            print(\"it is odd number\",i)\n",
    "number([10,23])"
   ]
  },
  {
   "cell_type": "markdown",
   "id": "10b76a6a-599f-4026-9e1e-50f79b06e03d",
   "metadata": {},
   "source": [
    "**2** **Write a program to get the sum of all the values in given list.**\r\n"
   ]
  },
  {
   "cell_type": "code",
   "execution_count": 7,
   "id": "55de1487-fb28-4273-8a6c-bfacfde41216",
   "metadata": {},
   "outputs": [
    {
     "name": "stdout",
     "output_type": "stream",
     "text": [
      "414\n"
     ]
    }
   ],
   "source": [
    "def sum(sum_of_number):\n",
    "  sum=0   \n",
    "  for i in sum_of_number:\n",
    "        sum=sum+i\n",
    "  print(sum)   \n",
    "sum([90,78,90,67,89])\n"
   ]
  },
  {
   "cell_type": "markdown",
   "id": "eaade969-283a-4fb3-a8a3-7510293b56a6",
   "metadata": {},
   "source": [
    "**3** **Construct your own function my_range() which acts as range() to print numbers in forward direction (step is positive) and backward direction(step is negative) with given start,stop and step as parameters**\n",
    "\r",
    "**\n",
    "eg my_range(1,10,1), then o/p= 1,2,3,4,,5,6,7,8,**9\n",
    " **\r\n",
    "my_range(1,10,2), then o/p= 1,3,5,7**,\n",
    "9** \r\n",
    "my_range(10,1,-1), then o/p = 10,9,8,7,6,5,4,**\n",
    ",**2 \r\n",
    "my_range(10,1,-2), then o/p = 10,8,6**,4,2\r\n"
   ]
  },
  {
   "cell_type": "code",
   "execution_count": 9,
   "id": "c2289b2a-1051-4bd3-b7fb-291347586f59",
   "metadata": {},
   "outputs": [
    {
     "name": "stdout",
     "output_type": "stream",
     "text": [
      "10 5 "
     ]
    }
   ],
   "source": [
    "def my_range(x,y,z):\n",
    "     for i in range(x,y,z):\n",
    "        print(i,end=\" \")\n",
    "my_range(10,1,-5)"
   ]
  },
  {
   "cell_type": "markdown",
   "id": "3b395e31-8f34-4dfb-bfd0-74fd9d73d4cc",
   "metadata": {},
   "source": [
    "**4**   **Multiply numbers with given start and stop (using loops)**\r\n",
    "          ** Example: start=1, stop= 5, then o/p: 12**0 \r\n",
    "                         **  start=3, stop=5, then o/p: **60\r\n"
   ]
  },
  {
   "cell_type": "code",
   "execution_count": 11,
   "id": "dce170ca-efd5-4a96-a599-4899187c475f",
   "metadata": {},
   "outputs": [
    {
     "name": "stdout",
     "output_type": "stream",
     "text": [
      "60\n"
     ]
    }
   ],
   "source": [
    "def mul(x,y):\n",
    "    mul=1\n",
    "    for i in range(x,y+1):\n",
    "         mul=i*mul\n",
    "    print(mul)\n",
    "mul(3,5)       "
   ]
  },
  {
   "cell_type": "markdown",
   "id": "8568aceb-4e8a-416c-b18b-35601ae1ff89",
   "metadata": {},
   "source": [
    "**5**   **Construct a function for fibonacci series(fib()) using**\r\n",
    "          ** a.loop**s \r\n",
    "         **  b.recursi**on \r\n",
    "        **   Expected o/** **: \r\n",
    "fib(5), then o/p= 0 1 1** 2** 3 \r\n",
    "fib(7), then o/p= 0 1 1 2 **3 5 8\r\n"
   ]
  },
  {
   "cell_type": "code",
   "execution_count": 13,
   "id": "8f2a9f4d-2cf2-4167-acad-f246e9e8f81f",
   "metadata": {},
   "outputs": [
    {
     "name": "stdout",
     "output_type": "stream",
     "text": [
      "0 1 1 2 3 5 8 "
     ]
    }
   ],
   "source": [
    "#while()\n",
    "def fib_number(fib):\n",
    "  i=2\n",
    "  fib=0\n",
    "  x=0\n",
    "  print(x,end=\" \")\n",
    "  y=1\n",
    "  print(y,end=\" \")\n",
    "  while fib<i:\n",
    "      fib=x+y \n",
    "      z=y\n",
    "      y=fib\n",
    "      x=z\n",
    "      i=i+1\n",
    "      print(fib ,end=\" \")\n",
    "fib_number(7)"
   ]
  },
  {
   "cell_type": "code",
   "execution_count": 15,
   "id": "58068d08-83e8-402b-a970-43e03795e15a",
   "metadata": {},
   "outputs": [
    {
     "name": "stdout",
     "output_type": "stream",
     "text": [
      "0 1 1 2 3 5 8 "
     ]
    }
   ],
   "source": [
    "#for()\n",
    "def fib_number(fib):\n",
    "  x=0\n",
    "  \n",
    "  y=1\n",
    "  print(x,y,end=\" \")\n",
    "  fibb=0\n",
    "  for i in range(2,fib):\n",
    "      fibb=x+y \n",
    "      print(fibb,end=\" \")\n",
    "      z=y\n",
    "      y=fibb\n",
    "      x=z\n",
    "      #print(fibb,end=\" \")\n",
    "fib_number(7)"
   ]
  },
  {
   "cell_type": "code",
   "execution_count": 55,
   "id": "076caeaf-66e2-47b5-b9ab-49209e93ef0b",
   "metadata": {},
   "outputs": [
    {
     "name": "stdin",
     "output_type": "stream",
     "text": [
      "enter the number 5\n"
     ]
    },
    {
     "name": "stdout",
     "output_type": "stream",
     "text": [
      "0 1 1 2 3 "
     ]
    }
   ],
   "source": [
    "#5b\n",
    "def fib(num):\n",
    "   if num==0:\n",
    "       return 0\n",
    "   elif num==1 or num==2:\n",
    "       return 1\n",
    "   else:\n",
    "       return fib(num-1)+fib(num-2)\n",
    "num=int(input(\"enter the number\"))\n",
    "for num in range(num):\n",
    "    print(fib(num),end=\" \")"
   ]
  },
  {
   "cell_type": "markdown",
   "id": "25162fb1-ca90-4889-844a-d5d3bef59e5f",
   "metadata": {},
   "source": [
    "**6** **Create a Factorial with Functions and loops**\r\n"
   ]
  },
  {
   "cell_type": "code",
   "execution_count": 33,
   "id": "945ba644-a019-48dd-b427-c800cb48528c",
   "metadata": {},
   "outputs": [
    {
     "name": "stdout",
     "output_type": "stream",
     "text": [
      "120\n"
     ]
    }
   ],
   "source": [
    "#function()\n",
    "x=1\n",
    "def factorial(x,y):\n",
    "    fact=1\n",
    "    for i in range(x,y+1):\n",
    "         fact=i*fact\n",
    "    print(fact)\n",
    "mul(1,5)       "
   ]
  },
  {
   "cell_type": "code",
   "execution_count": 35,
   "id": "e3e5ae76-2ed8-40fc-819f-ffc58362d60e",
   "metadata": {},
   "outputs": [
    {
     "name": "stdin",
     "output_type": "stream",
     "text": [
      "enter the number 5\n"
     ]
    },
    {
     "name": "stdout",
     "output_type": "stream",
     "text": [
      "120\n"
     ]
    }
   ],
   "source": [
    "#for loop\n",
    "n=int(input(\"enter the number\"))\n",
    "fact=1\n",
    "x=1\n",
    "for i in range(x,n+1):\n",
    "    fact=i*fact\n",
    "    \n",
    "print(fact)\n",
    "#print(fact)     "
   ]
  },
  {
   "cell_type": "code",
   "execution_count": 43,
   "id": "b5e6d990-7bb0-454c-a87f-e1a03939ffab",
   "metadata": {},
   "outputs": [
    {
     "name": "stdin",
     "output_type": "stream",
     "text": [
      "enter the number 5\n"
     ]
    },
    {
     "name": "stdout",
     "output_type": "stream",
     "text": [
      "120\n"
     ]
    }
   ],
   "source": [
    "n=int(input(\"enter the number\"))\n",
    "fact=1\n",
    "x=1\n",
    "while n+1>x:\n",
    "    fact=x*fact\n",
    "    x=x+1\n",
    "print(fact)"
   ]
  },
  {
   "cell_type": "code",
   "execution_count": null,
   "id": "d0caac8d-eb4d-412b-89c6-e62df01c8e4f",
   "metadata": {},
   "outputs": [],
   "source": []
  }
 ],
 "metadata": {
  "kernelspec": {
   "display_name": "Python 3 (ipykernel)",
   "language": "python",
   "name": "python3"
  },
  "language_info": {
   "codemirror_mode": {
    "name": "ipython",
    "version": 3
   },
   "file_extension": ".py",
   "mimetype": "text/x-python",
   "name": "python",
   "nbconvert_exporter": "python",
   "pygments_lexer": "ipython3",
   "version": "3.12.4"
  }
 },
 "nbformat": 4,
 "nbformat_minor": 5
}
