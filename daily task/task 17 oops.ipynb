{
 "cells": [
  {
   "cell_type": "markdown",
   "id": "61c26da7-6b72-4e0f-ad76-9065256f2204",
   "metadata": {},
   "source": [
    "# task 17"
   ]
  },
  {
   "cell_type": "markdown",
   "id": "1427dbf4-1c69-47c6-9a56-5b7985b8250d",
   "metadata": {},
   "source": [
    "**1Create two base classes. One base class is 'Person' with attributes name and age. Another class is 'Address' with attributes city and country. Define a derived class 'Employee' that inherits from both Person and Address. In 'Employee' class add an attribute job.** \r",
    "**\n",
    "Example: \r\n",
    "class Person:\r\n",
    "    #code\r\n",
    "class Address:\r\n",
    "    #code\r\n",
    "class Employee(Person, Address):\r\n",
    "  **  #code\r\n",
    "#code\r\n"
   ]
  },
  {
   "cell_type": "code",
   "execution_count": 468,
   "id": "ef6f3b78-667c-408d-8c56-0fad0dbb1f49",
   "metadata": {},
   "outputs": [],
   "source": [
    "class person:\n",
    "    def __init__(self,name,age):\n",
    "         self.name=name\n",
    "         self.age=age\n",
    "class address:\n",
    "    def __init__(self,city,country):\n",
    "         self.city=city\n",
    "         self.country=country\n",
    "class employee(person,address) : \n",
    "     def __init__(self,name,age,city,country,job):\n",
    "         person.__init__(self,name,age)\n",
    "         address.__init__(self,city,country)\n",
    "         self.job=job\n",
    "       \n"
   ]
  },
  {
   "cell_type": "code",
   "execution_count": 470,
   "id": "f968de2e-7108-4e7c-b9e5-5492f200ae8c",
   "metadata": {},
   "outputs": [
    {
     "name": "stdout",
     "output_type": "stream",
     "text": [
      "vvvv\n",
      "21\n"
     ]
    }
   ],
   "source": [
    "person1=person(\"vvvv\",21)\n",
    "print(person1.name)\n",
    "print(person1.age)"
   ]
  },
  {
   "cell_type": "code",
   "execution_count": 472,
   "id": "eecda75f-1241-4f98-a8e0-af9881e16bad",
   "metadata": {},
   "outputs": [
    {
     "name": "stdout",
     "output_type": "stream",
     "text": [
      "hyd\n",
      "india\n"
     ]
    }
   ],
   "source": [
    "address1=address(\"hyd\",\"india\")\n",
    "print(address1.city)\n",
    "print(address1.country)"
   ]
  },
  {
   "cell_type": "code",
   "execution_count": 474,
   "id": "706d7c6d-a2a2-4b61-9d0a-4eb54db84d24",
   "metadata": {},
   "outputs": [
    {
     "name": "stdout",
     "output_type": "stream",
     "text": [
      "vvvv\n",
      "india\n",
      "hyd\n",
      "21\n",
      "data analyst\n"
     ]
    }
   ],
   "source": [
    "emp1=employee(\"vvvv\",21,\"hyd\",\"india\",\"data analyst\")\n",
    "print(emp1.name)\n",
    "print(emp1.country)\n",
    "print(emp1.city)\n",
    "print(emp1.age)\n",
    "print(emp1.job)\n"
   ]
  },
  {
   "cell_type": "markdown",
   "id": "d6372c8d-d0b8-4e77-8fe9-9578f78cdcb5",
   "metadata": {},
   "source": [
    "**2Create a base class Animal with a method make_sound(). Define two subclasses, Dog and Cat, that inherit from Animal and override the make_sound() method to print the respective sounds.**\r\n"
   ]
  },
  {
   "cell_type": "code",
   "execution_count": 140,
   "id": "0a202565-3fea-4368-843b-9a149884fdcc",
   "metadata": {},
   "outputs": [],
   "source": [
    "class animal:\n",
    "    def __init__(self):\n",
    "       return \"making sound\"\n",
    "class dog:\n",
    "    def make_sound(self):\n",
    "       return\"dog barks\"\n",
    "class cat:\n",
    "    def make_sound(self):\n",
    "        return\"cat make sound  of meow\"\n",
    "def animal_sound(class_name):\n",
    "        return class_name.make_sound()"
   ]
  },
  {
   "cell_type": "code",
   "execution_count": 142,
   "id": "583bd2cd-ba15-402c-bff4-c269338cbb18",
   "metadata": {},
   "outputs": [],
   "source": [
    "d1=dog()\n",
    "c1=cat()\n"
   ]
  },
  {
   "cell_type": "code",
   "execution_count": 150,
   "id": "eba7dde8-7fe0-45e2-bc32-aaf8f3d21592",
   "metadata": {},
   "outputs": [
    {
     "name": "stdout",
     "output_type": "stream",
     "text": [
      "dog barks\n",
      "cat make sound  of meow\n"
     ]
    }
   ],
   "source": [
    "print(animal_sound(d1))\n",
    "print(animal_sound(c1))"
   ]
  },
  {
   "cell_type": "markdown",
   "id": "d05fe1f1-10be-467c-8784-e164822a85c6",
   "metadata": {},
   "source": [
    "**3Create a function calculate, that can calculate the sum of two numbers or concatenate two strings. The function should be able to take any number of arguments and also demonstrate polymorphism based on the different types of arguments.**\r\n"
   ]
  },
  {
   "cell_type": "code",
   "execution_count": 179,
   "id": "2bb1606e-8480-40a0-96f0-403c0fd8f824",
   "metadata": {},
   "outputs": [],
   "source": [
    "class poly:\n",
    "    def __init__(self,a,b):\n",
    "        self.a=a\n",
    "        self.b=b\n",
    "    def add(self):\n",
    "        return self.a + self.b\n"
   ]
  },
  {
   "cell_type": "code",
   "execution_count": 181,
   "id": "59d740c3-89e3-4b28-9f03-778a44d1d3aa",
   "metadata": {},
   "outputs": [
    {
     "name": "stdout",
     "output_type": "stream",
     "text": [
      "10\n"
     ]
    }
   ],
   "source": [
    "p1=poly(4,6)\n",
    "print(p1.add())"
   ]
  },
  {
   "cell_type": "code",
   "execution_count": 185,
   "id": "717a73f8-da06-4cfa-9cb7-0c73241e970e",
   "metadata": {},
   "outputs": [
    {
     "name": "stdout",
     "output_type": "stream",
     "text": [
      "hello world\n"
     ]
    }
   ],
   "source": [
    "p2=poly(\"hello\",\" world\")\n",
    "print(p2.add())"
   ]
  },
  {
   "cell_type": "code",
   "execution_count": 189,
   "id": "fe772552-17c4-4702-9f2f-d56d5d69e89e",
   "metadata": {},
   "outputs": [
    {
     "name": "stdout",
     "output_type": "stream",
     "text": [
      "1.659\n"
     ]
    }
   ],
   "source": [
    "p4=poly(0.999,0.66)\n",
    "print(p4.add())"
   ]
  },
  {
   "cell_type": "code",
   "execution_count": 191,
   "id": "2ad928ec-6fed-4249-9b71-b900acba72be",
   "metadata": {},
   "outputs": [
    {
     "name": "stdout",
     "output_type": "stream",
     "text": [
      "0.9978\n"
     ]
    }
   ],
   "source": [
    "p5=poly(\"0.99\",\"78\")\n",
    "print(p5.add())"
   ]
  },
  {
   "cell_type": "markdown",
   "id": "558a954e-6667-4038-9083-bae204a10253",
   "metadata": {},
   "source": [
    "**4a\r\n",
    "Create a Person class with private attributes _ _name and _ _age. Implement getter and setter methods for accessing and modifying these attribute**s\n",
    "**b Modify the Person class from the previous problem to use properties for accessing and modifying the private attributes.**\r\n",
    ".\r\n"
   ]
  },
  {
   "cell_type": "code",
   "execution_count": 476,
   "id": "e8e9ba34-4b38-42f7-8087-fab812bdd600",
   "metadata": {},
   "outputs": [],
   "source": [
    "class person:\n",
    "     def __init__(self,name,age):\n",
    "        self.__name=name\n",
    "        self.__age=age\n",
    "     def get_name(self):\n",
    "        return self.__name\n",
    "     def set_name(self,name):\n",
    "        self.__name=name\n",
    "     \n",
    "     def get_age(self):\n",
    "         return self.__age\n",
    "     def set_age(self,age):\n",
    "         self.__age=age\n",
    "   \n"
   ]
  },
  {
   "cell_type": "code",
   "execution_count": 455,
   "id": "34cda629-51e8-40f2-b237-3ac9f3144a5f",
   "metadata": {},
   "outputs": [
    {
     "name": "stdout",
     "output_type": "stream",
     "text": [
      "shravani\n",
      "21\n",
      "sravanthi\n",
      "22\n"
     ]
    }
   ],
   "source": [
    "p1=person(\"shravani\",21)\n",
    "\n",
    "print(p1.get_name())\n",
    "print(p1.get_age())\n",
    "p1.set_age(22)\n",
    "p1.set_name(\"sravanthi\")\n",
    "print(p1.get_name())\n",
    "print(p1.get_age())\n"
   ]
  },
  {
   "cell_type": "markdown",
   "id": "b0bcf915-4336-4a88-b209-7690a114aceb",
   "metadata": {},
   "source": [
    "**5aCreate a BankAccount class with a protected attribute _balance. Implement a method get_balance() to retrieve the balance.**\r\n"
   ]
  },
  {
   "cell_type": "code",
   "execution_count": 92,
   "id": "63975430-f9c9-4420-ba44-0f37bcddccd9",
   "metadata": {},
   "outputs": [
    {
     "name": "stdout",
     "output_type": "stream",
     "text": [
      "70000 from class\n",
      "70000 from get method\n"
     ]
    }
   ],
   "source": [
    "class bank_account:\n",
    "       _balance=70000\n",
    "       def get_balance(self):\n",
    "          return self._balance\n",
    "print(bank_account._balance,\"from class\")\n",
    "b1=bank_account()\n",
    "print(b1.get_balance(),\"from get method\")\n"
   ]
  },
  {
   "cell_type": "markdown",
   "id": "5046dce9-63c8-4c95-ab52-be4ab0db0b45",
   "metadata": {},
   "source": [
    "**5bCreate a Python module calculator with a private function _ _add that adds two numbers. Implement a public function add_numbers that calls the private function.**\r\n"
   ]
  },
  {
   "cell_type": "code",
   "execution_count": 15,
   "id": "eb1b24f2-b34d-43ac-8bd6-aa2befb51100",
   "metadata": {},
   "outputs": [
    {
     "data": {
      "text/plain": [
       "84"
      ]
     },
     "execution_count": 15,
     "metadata": {},
     "output_type": "execute_result"
    }
   ],
   "source": [
    "def add_numbers(x,y):\n",
    "        return  __add(x,y)\n",
    "def __add(x,y):\n",
    "      return  x + y\n",
    "add_numbers(78,6)"
   ]
  },
  {
   "cell_type": "markdown",
   "id": "67128e9d-14bf-4ccf-b1c5-2e227f9e1fdf",
   "metadata": {},
   "source": [
    "**6create an abstract class Shape with an abstract method calculate_area(). Define two subclasses, Rectangle and Circle, that inherit from Shape and implement the calculate_area() method.**\r\n",
    "\n"
   ]
  },
  {
   "cell_type": "code",
   "execution_count": 275,
   "id": "7162d762-3cce-4065-9b32-9c403065eff3",
   "metadata": {},
   "outputs": [],
   "source": [
    "from abc import ABC,abstractmethod\n",
    "class shape(ABC):\n",
    "    def calculate_area():\n",
    "        return area\n",
    "class rectangle(shape):\n",
    "     def __init__(self,length,breadth):\n",
    "          self.length=length\n",
    "          self.breadth=breadth\n",
    "     def calculate_area(self):\n",
    "         return  self.length*self.breadth\n",
    "class circle(shape):\n",
    "       def __init__(self,radius):\n",
    "             self.radius=radius\n",
    "       def calculate_area(self):\n",
    "            return self.radius*3.14\n",
    "           "
   ]
  },
  {
   "cell_type": "code",
   "execution_count": 277,
   "id": "613715c0-98c2-4e4d-9d6f-3ab2827c28fb",
   "metadata": {},
   "outputs": [
    {
     "name": "stdout",
     "output_type": "stream",
     "text": [
      "54\n"
     ]
    }
   ],
   "source": [
    "r1=rectangle(6,9)\n",
    "print(r1.calculate_area())"
   ]
  },
  {
   "cell_type": "code",
   "execution_count": 279,
   "id": "5140beeb-5beb-4ac9-8101-2164f61d279c",
   "metadata": {},
   "outputs": [
    {
     "name": "stdout",
     "output_type": "stream",
     "text": [
      "15.700000000000001\n"
     ]
    }
   ],
   "source": [
    "c1=circle(5)\n",
    "print(c1.calculate_area())"
   ]
  },
  {
   "cell_type": "code",
   "execution_count": null,
   "id": "5354d6b8-f0f3-4470-986d-8fbca60176c1",
   "metadata": {},
   "outputs": [],
   "source": []
  }
 ],
 "metadata": {
  "kernelspec": {
   "display_name": "Python 3 (ipykernel)",
   "language": "python",
   "name": "python3"
  },
  "language_info": {
   "codemirror_mode": {
    "name": "ipython",
    "version": 3
   },
   "file_extension": ".py",
   "mimetype": "text/x-python",
   "name": "python",
   "nbconvert_exporter": "python",
   "pygments_lexer": "ipython3",
   "version": "3.12.4"
  }
 },
 "nbformat": 4,
 "nbformat_minor": 5
}
