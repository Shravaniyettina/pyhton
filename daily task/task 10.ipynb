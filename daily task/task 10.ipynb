{
 "cells": [
  {
   "cell_type": "markdown",
   "id": "cb2b2591-5443-4ce2-8759-bd4cb0660014",
   "metadata": {},
   "source": [
    "**1** **Write a program that checks whether a given number is an Armstrong number. An Armstrong number is one that is equal to the sum of its own digits each raised to the power of the number of digits. Use a while loop.**\r\n",
    "\r\n"
   ]
  },
  {
   "cell_type": "code",
   "execution_count": 18,
   "id": "a5bfcb14-7a73-4bdd-9fc1-ffc2123a1cbe",
   "metadata": {},
   "outputs": [
    {
     "name": "stdin",
     "output_type": "stream",
     "text": [
      "enter the number: 153\n"
     ]
    },
    {
     "name": "stdout",
     "output_type": "stream",
     "text": [
      "it is a armstrong number\n"
     ]
    }
   ],
   "source": [
    "a=int(input(\"enter the number:\"))\n",
    "b=str(a)\n",
    "z=len(b)\n",
    "s=a\n",
    "i=0\n",
    "sum=0\n",
    "while a>0:\n",
    "     x=a%10\n",
    "     a=a//10\n",
    "     result=x**z\n",
    "     sum=sum+result\n",
    "     i=i+1\n",
    "sum\n",
    "if s==sum:\n",
    "   print(\"it is a armstrong number\")\n",
    "else:\n",
    "    print(\"it is not a atrmstrong number\")"
   ]
  },
  {
   "cell_type": "markdown",
   "id": "339ce9a1-8b27-45b9-90fb-a09f92a361b6",
   "metadata": {},
   "source": [
    "**2** **Write a program to determine if a given year is a leap year.**\r\n"
   ]
  },
  {
   "cell_type": "code",
   "execution_count": 21,
   "id": "3cdc5ee8-bf1c-4e38-81dc-2ca9fa36e773",
   "metadata": {},
   "outputs": [
    {
     "name": "stdin",
     "output_type": "stream",
     "text": [
      "enter  the number 2032\n"
     ]
    },
    {
     "name": "stdout",
     "output_type": "stream",
     "text": [
      "it is a leap year 2032\n"
     ]
    }
   ],
   "source": [
    " number=int(input(\"enter  the number\"))\n",
    "if number%4==0:\n",
    "   print(\"it is a leap year\",number)\n",
    "else:\n",
    "  print(\"it is not a leap year\")"
   ]
  },
  {
   "cell_type": "markdown",
   "id": "1c0e52b1-100a-4b16-9a50-9b7d32cd32be",
   "metadata": {},
   "source": [
    "**3**  **Write a program that generates the Fibonacci sequence up to a certain number using a while loop.**\r\n",
    "\r\n"
   ]
  },
  {
   "cell_type": "code",
   "execution_count": 24,
   "id": "d0de7305-d257-4384-b513-4346841d0417",
   "metadata": {},
   "outputs": [
    {
     "name": "stdin",
     "output_type": "stream",
     "text": [
      "enter the number 8\n"
     ]
    },
    {
     "name": "stdout",
     "output_type": "stream",
     "text": [
      "13\n"
     ]
    }
   ],
   "source": [
    "n=int(input(\"enter the number\"))\n",
    "i=2\n",
    "fib=0\n",
    "x=0\n",
    "y=1\n",
    "while n>i:\n",
    "      fib=x+y\n",
    "      z=y\n",
    "      y=fib\n",
    "      x=z\n",
    "      i=i+1\n",
    "print(fib)"
   ]
  },
  {
   "cell_type": "markdown",
   "id": "b654f679-e3e0-4786-b245-02891caffa47",
   "metadata": {},
   "source": [
    "**4** **Write a program to print the following pattern using a for loop:**\r\n",
    "                   \r\n",
    "                                   *\r\n",
    "                                   * *\r\n",
    "                                   * * *\r\n",
    "                                   * * * *\r\n",
    "                                   * * * * *\r\n",
    "  \r\n"
   ]
  },
  {
   "cell_type": "code",
   "execution_count": 30,
   "id": "603458a1-e762-4163-a13f-8bb92a81e404",
   "metadata": {},
   "outputs": [
    {
     "name": "stdin",
     "output_type": "stream",
     "text": [
      "enter the number 5\n"
     ]
    },
    {
     "name": "stdout",
     "output_type": "stream",
     "text": [
      "* \n",
      "* * \n",
      "* * * \n",
      "* * * * \n",
      "* * * * * \n"
     ]
    }
   ],
   "source": [
    "n=int(input(\"enter the number\"))\n",
    "for i in range (n):\n",
    "    for j in range(i+1):\n",
    "        print(\"*\",end=\" \")\n",
    "    print()"
   ]
  },
  {
   "cell_type": "markdown",
   "id": "2dae52b3-09fb-45b7-9272-0919a922c0eb",
   "metadata": {},
   "source": [
    "**5** **Write a program to print the following pattern using a for loop:**\r\n",
    "                            \r\n",
    "                                       1\r\n",
    "                                     2   2\r\n",
    "                                  3   3   3\r\n",
    "                               4   4   4   4\r\n",
    "                             5   5   5   5   5  \r\n",
    "                               4   4   4   4\r\n",
    "                                  3   3   3\r\n",
    "                                    2   2\r\n",
    "                                       1\r\n"
   ]
  },
  {
   "cell_type": "code",
   "execution_count": 271,
   "id": "f542840f-a127-4cf3-afa1-e60c65f01c96",
   "metadata": {},
   "outputs": [
    {
     "name": "stdin",
     "output_type": "stream",
     "text": [
      "enter the number 5\n"
     ]
    },
    {
     "name": "stdout",
     "output_type": "stream",
     "text": [
      "     1 \n",
      "    2 2 \n",
      "   3 3 3   \n",
      "  4 4 4 4     \n",
      " 5 5 5 5 5       \n",
      "  4 4 4 4      \n",
      "   3 3 3     \n",
      "    2 2    \n",
      "     1   \n"
     ]
    }
   ],
   "source": [
    "n=int(input(\"enter the number\"))\n",
    "p=1\n",
    "for i in range(n-1):\n",
    "    for j in range(i,n):\n",
    "        print(\"\",end=\" \")\n",
    "    for j in range(i+1):\n",
    "        print(p,end=\" \")\n",
    "    for j in range(i-1):\n",
    "        print(\" \",end=\" \")\n",
    "    p=p+1\n",
    "    print()\n",
    "for i in range(n):\n",
    "    for j in range(i+1):\n",
    "        print(\"\",end=\" \")\n",
    "    for j in range(i-1,n-1):\n",
    "        print(p,end=\" \")\n",
    "    for j in range(i,n+1):\n",
    "        print(\"\",end=\" \")\n",
    "    p=p-1\n",
    "    print()"
   ]
  }
 ],
 "metadata": {
  "kernelspec": {
   "display_name": "Python 3 (ipykernel)",
   "language": "python",
   "name": "python3"
  },
  "language_info": {
   "codemirror_mode": {
    "name": "ipython",
    "version": 3
   },
   "file_extension": ".py",
   "mimetype": "text/x-python",
   "name": "python",
   "nbconvert_exporter": "python",
   "pygments_lexer": "ipython3",
   "version": "3.12.4"
  }
 },
 "nbformat": 4,
 "nbformat_minor": 5
}
